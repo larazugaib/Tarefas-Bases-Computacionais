{
  "nbformat": 4,
  "nbformat_minor": 0,
  "metadata": {
    "colab": {
      "provenance": [],
      "collapsed_sections": [
        "YJeQOwY4zbrU"
      ]
    },
    "kernelspec": {
      "name": "python3",
      "display_name": "Python 3"
    },
    "language_info": {
      "name": "python"
    }
  },
  "cells": [
    {
      "cell_type": "markdown",
      "source": [
        "Projeto de Bases Computacionais:\n",
        "# Logarítmo em Python\n",
        "\n",
        "Luiza Silveira Fernandes Passos\n",
        "\n",
        "Felipe Barone Morales\n",
        "\n",
        "Lara Carvalho Zugaib"
      ],
      "metadata": {
        "id": "a1juYyWQk8dF"
      }
    },
    {
      "cell_type": "markdown",
      "source": [
        "Logarítmo é uma função matemática que é usada para calcular equações exponenciais quando se conhece sua base e seu resultado, funcionando como uma espécie de inverso da potenciação."
      ],
      "metadata": {
        "id": "PSLsfcFLlfvb"
      }
    },
    {
      "cell_type": "markdown",
      "source": [
        "Esse tema foi escolhido pois muitos alunos tem dificuldade nessa parte da matemática, portanto o objetivo deste notebook é tentar facilitar o entendimento e a realização do mesmo através da codificação em Python."
      ],
      "metadata": {
        "id": "V4HMeed1ng_t"
      }
    },
    {
      "cell_type": "markdown",
      "source": [
        "# Biblioteca Numpy\n",
        "\n",
        "Antes de começar nossos calculos, primeiramente iremos importar a biblioteca numpy do python para nosso Notebook, assim facilitando para utilizarmos certas tarefas matemáticas posteriormente."
      ],
      "metadata": {
        "id": "VnSeOuwJoVYL"
      }
    },
    {
      "cell_type": "code",
      "execution_count": null,
      "metadata": {
        "id": "4Jw477AskUMO"
      },
      "outputs": [],
      "source": [
        "import numpy as np"
      ]
    },
    {
      "cell_type": "markdown",
      "source": [
        "# Operações Logarítmicas\n",
        "\n",
        "Após importar a biblioteca, iremos entrar em mais detalhes de como funciona uma operação logaritmica:\n",
        "\n",
        "Logarítmo é uma operação matemática que esta diretamente relacionada as operações de potenciação, pois é necessário dominar esse assunto para entender o conceito de log.\n",
        "\n",
        "Nas operações de log, buscamos encontrar o expoente de uma base a partir de seu logaritimando.\n",
        "\n",
        "Um log é composto por essa estrutura:\n",
        "\n",
        "\n",
        "### **Logₐ b = c <=> aᶜ = b**\n",
        "\n",
        "A é a base, B seu logaritimando e C, o logaritmo.\n",
        "\n",
        "Tal como A é a base, C o expoente e B o resultado.\n",
        "\n"
      ],
      "metadata": {
        "id": "YgUuYROY-jm2"
      }
    },
    {
      "cell_type": "markdown",
      "source": [
        "Agora, para calcular o logarítmo de base 10 de qualquer número, basta digitar o comando \"np.log10()\" , e colocar o número que deseja dentro dos parênteses.\n",
        "\n",
        "Alguns exemplos:"
      ],
      "metadata": {
        "id": "BDfY1Cewo_UG"
      }
    },
    {
      "cell_type": "code",
      "source": [
        "np.log10(2) # log de 2"
      ],
      "metadata": {
        "colab": {
          "base_uri": "https://localhost:8080/"
        },
        "id": "HfCZpyX1o3am",
        "outputId": "b4a1ce09-2581-43c5-ed28-8eee5c363121"
      },
      "execution_count": null,
      "outputs": [
        {
          "output_type": "execute_result",
          "data": {
            "text/plain": [
              "0.3010299956639812"
            ]
          },
          "metadata": {},
          "execution_count": 14
        }
      ]
    },
    {
      "cell_type": "code",
      "source": [
        "np.log10(4) # log de 4"
      ],
      "metadata": {
        "colab": {
          "base_uri": "https://localhost:8080/"
        },
        "id": "XFhR3fAopjy_",
        "outputId": "b0959cc5-e0a4-45f1-a55b-0038b923d9be"
      },
      "execution_count": null,
      "outputs": [
        {
          "output_type": "execute_result",
          "data": {
            "text/plain": [
              "0.6020599913279624"
            ]
          },
          "metadata": {},
          "execution_count": 15
        }
      ]
    },
    {
      "cell_type": "code",
      "source": [
        "np.log10(10) # log de 10"
      ],
      "metadata": {
        "colab": {
          "base_uri": "https://localhost:8080/"
        },
        "id": "Uj0HXa0Npmt7",
        "outputId": "78d54137-0e1e-4a65-dcba-3cd2127fa5d4"
      },
      "execution_count": null,
      "outputs": [
        {
          "output_type": "execute_result",
          "data": {
            "text/plain": [
              "1.0"
            ]
          },
          "metadata": {},
          "execution_count": 16
        }
      ]
    },
    {
      "cell_type": "markdown",
      "source": [
        "Mas e para calcular o log em uma base diferente de 10? Simples! Basta dividir o logaritimo do logaritimando que deseja pelo logaritimo da base. \n",
        "\n",
        "Pois o numpy possui em suas funções bases apenas o logarítmo natural, de base2 e de base 10, logo precisaremos fazer essa conta para obtermos um logarítmo de base diferente.\n",
        "\n",
        "A conta ficaria mais ou menos assim:\n",
        "\n",
        "##### **Logₐ(logaritmando) / Logₐ(base)**\n",
        "\n",
        "Vamos usar alguns exemplos para visualizarmos melhor:"
      ],
      "metadata": {
        "id": "3UyjiWsfqCnb"
      }
    },
    {
      "cell_type": "code",
      "source": [
        "# log de 4 na base 2\n",
        "np.log(4)/np.log(2)"
      ],
      "metadata": {
        "colab": {
          "base_uri": "https://localhost:8080/"
        },
        "id": "KJy0PpsypqEM",
        "outputId": "d89b593e-b953-4e5b-c506-901473f67ff0"
      },
      "execution_count": null,
      "outputs": [
        {
          "output_type": "execute_result",
          "data": {
            "text/plain": [
              "2.0"
            ]
          },
          "metadata": {},
          "execution_count": 20
        }
      ]
    },
    {
      "cell_type": "code",
      "source": [
        "# log de 25 na base 5\n",
        "np.log(25)/np.log(5)"
      ],
      "metadata": {
        "colab": {
          "base_uri": "https://localhost:8080/"
        },
        "id": "bH_JxRIsrukt",
        "outputId": "c35be621-edd2-4a34-890f-c2b944978666"
      },
      "execution_count": null,
      "outputs": [
        {
          "output_type": "execute_result",
          "data": {
            "text/plain": [
              "2.0"
            ]
          },
          "metadata": {},
          "execution_count": 19
        }
      ]
    },
    {
      "cell_type": "code",
      "source": [
        "# log de 275 na base 8\n",
        "np.log(275)/np.log(8)"
      ],
      "metadata": {
        "colab": {
          "base_uri": "https://localhost:8080/"
        },
        "id": "5tE9M3Rgr_0T",
        "outputId": "eccead81-d9af-4e87-855e-bc0a3b1f83b6"
      },
      "execution_count": null,
      "outputs": [
        {
          "output_type": "execute_result",
          "data": {
            "text/plain": [
              "2.701095936137341"
            ]
          },
          "metadata": {},
          "execution_count": 9
        }
      ]
    },
    {
      "cell_type": "markdown",
      "source": [
        "Também podemos fazer isso colocando a base antes dos parênteses, porém não é muito conveniente pois só é possível utilizar as bases 2 e 10 com este método."
      ],
      "metadata": {
        "id": "XkJRTO80uXKg"
      }
    },
    {
      "cell_type": "code",
      "source": [
        "np.log2(4)"
      ],
      "metadata": {
        "colab": {
          "base_uri": "https://localhost:8080/"
        },
        "id": "MquyTV0-sJQD",
        "outputId": "c057096c-882b-4a5e-847b-c159a4aa6d7f"
      },
      "execution_count": null,
      "outputs": [
        {
          "output_type": "execute_result",
          "data": {
            "text/plain": [
              "2.0"
            ]
          },
          "metadata": {},
          "execution_count": 11
        }
      ]
    },
    {
      "cell_type": "code",
      "source": [
        "np.log10(40)"
      ],
      "metadata": {
        "colab": {
          "base_uri": "https://localhost:8080/"
        },
        "id": "2XgDw5LZtC_R",
        "outputId": "91108584-6225-41eb-bb03-e744172cb0fa"
      },
      "execution_count": null,
      "outputs": [
        {
          "output_type": "execute_result",
          "data": {
            "text/plain": [
              "1.6020599913279625"
            ]
          },
          "metadata": {},
          "execution_count": 26
        }
      ]
    },
    {
      "cell_type": "markdown",
      "source": [
        "Também é possível calcular ln (logarítmo natural ou na base 'e'). Basta escrever o comando sem o \"10\" o complementando."
      ],
      "metadata": {
        "id": "euPItNeiv7x2"
      }
    },
    {
      "cell_type": "markdown",
      "source": [
        "Mas explicando mais profundamente, o que seria o logarítmo de base e?\n",
        "\n",
        "Bem, \"*e*\" Significa Euler, uma constante utilizada para diversas aplicações, mas a principal seria que ele é a base para os logarítmos naturais.\n",
        "\n",
        "O valor deste número é aproxidamente:\n",
        "\n",
        "2,718281\n",
        "\n"
      ],
      "metadata": {
        "id": "NmdAgHfDCWkF"
      }
    },
    {
      "cell_type": "markdown",
      "source": [
        "Enfim, algumas aplicações:"
      ],
      "metadata": {
        "id": "dbNRdnDpDGhE"
      }
    },
    {
      "cell_type": "code",
      "source": [
        "np.log(2) # ln de 2"
      ],
      "metadata": {
        "colab": {
          "base_uri": "https://localhost:8080/"
        },
        "id": "lhQ42uTIvFAr",
        "outputId": "7b68b440-7fbf-4896-c373-3d85c18eb214"
      },
      "execution_count": null,
      "outputs": [
        {
          "output_type": "execute_result",
          "data": {
            "text/plain": [
              "0.6931471805599453"
            ]
          },
          "metadata": {},
          "execution_count": 27
        }
      ]
    },
    {
      "cell_type": "code",
      "source": [
        "np.log(3) # ln de 3"
      ],
      "metadata": {
        "colab": {
          "base_uri": "https://localhost:8080/"
        },
        "id": "CAx_Ezviwf7u",
        "outputId": "059446c7-8a52-4804-e2f5-84fc3d7994f6"
      },
      "execution_count": null,
      "outputs": [
        {
          "output_type": "execute_result",
          "data": {
            "text/plain": [
              "1.0986122886681098"
            ]
          },
          "metadata": {},
          "execution_count": 28
        }
      ]
    },
    {
      "cell_type": "code",
      "source": [
        "np.log(10) # ln de 10"
      ],
      "metadata": {
        "colab": {
          "base_uri": "https://localhost:8080/"
        },
        "id": "eLI5DHm8wiSF",
        "outputId": "e997f312-5235-4b4f-b985-f641232b16fa"
      },
      "execution_count": null,
      "outputs": [
        {
          "output_type": "execute_result",
          "data": {
            "text/plain": [
              "2.302585092994046"
            ]
          },
          "metadata": {},
          "execution_count": 29
        }
      ]
    },
    {
      "cell_type": "markdown",
      "source": [
        "Outra coisa importante a se notar é que todo número elevado a 0 é 1, logo todo log de 1 é igual a 0."
      ],
      "metadata": {
        "id": "OpeDb7xZHxtr"
      }
    },
    {
      "cell_type": "code",
      "source": [
        "a = np.log(1)\n",
        "\n",
        "b = np.log10(1)\n",
        "\n",
        "c = np.log2(1)\n",
        "\n",
        "d = np.log(1) / np.log(0.5)\n",
        "\n",
        "print('Os logarítmos, ou seja, os expoentes dessas bases são: ' % a, b, c, d)"
      ],
      "metadata": {
        "colab": {
          "base_uri": "https://localhost:8080/"
        },
        "id": "e7QSWwDxHxZj",
        "outputId": "03f6b355-69b9-4615-e232-c3c83185d2a6"
      },
      "execution_count": null,
      "outputs": [
        {
          "output_type": "stream",
          "name": "stdout",
          "text": [
            "Os logarítmos, ou seja, os expoentes dessas bases são:  0.0 0.0 -0.0\n"
          ]
        }
      ]
    },
    {
      "cell_type": "markdown",
      "source": [
        "# Funções Logarítmicas\n",
        "\n",
        "Vamos ver agora como fazer as funções de log. Uma função logarítmica utiliza logarítmo para a formação de suas variáveis, por exemplo:\n",
        "\n",
        "\n",
        "```\n",
        "# f(x) = logₐx\n",
        "y = log(x) / log(a)\n",
        "```\n",
        "\n",
        "O domínio desta função está entre os reais positivos e diferente de 0, e seu contradomínio no conjunto dos números reais. Sua base é necessariamente maior que 0 e diferente de 1.\n",
        "\n",
        "Alguns exemplos:"
      ],
      "metadata": {
        "id": "ZqnUppmwxHtc"
      }
    },
    {
      "cell_type": "code",
      "source": [
        "x = 3\n",
        "np.log(x)"
      ],
      "metadata": {
        "colab": {
          "base_uri": "https://localhost:8080/"
        },
        "id": "9SxJC1Ys0Ryp",
        "outputId": "649f6bd8-274b-4f81-cfc3-3800bd423566"
      },
      "execution_count": null,
      "outputs": [
        {
          "output_type": "execute_result",
          "data": {
            "text/plain": [
              "1.0986122886681098"
            ]
          },
          "metadata": {},
          "execution_count": 34
        }
      ]
    },
    {
      "cell_type": "code",
      "source": [
        "x = 4\n",
        "2*np.log(x)"
      ],
      "metadata": {
        "colab": {
          "base_uri": "https://localhost:8080/"
        },
        "id": "0W8SKdAh0fnk",
        "outputId": "0724a98b-c49b-4ea1-c489-52efa2e4800a"
      },
      "execution_count": null,
      "outputs": [
        {
          "output_type": "execute_result",
          "data": {
            "text/plain": [
              "2.772588722239781"
            ]
          },
          "metadata": {},
          "execution_count": 37
        }
      ]
    },
    {
      "cell_type": "code",
      "source": [
        "x = 0.5\n",
        "-3*np.log(x)"
      ],
      "metadata": {
        "colab": {
          "base_uri": "https://localhost:8080/"
        },
        "id": "GsT8OIlx0jUU",
        "outputId": "9544f3bc-8c4e-4560-aa6f-ee240c32c82c"
      },
      "execution_count": null,
      "outputs": [
        {
          "output_type": "execute_result",
          "data": {
            "text/plain": [
              "2.0794415416798357"
            ]
          },
          "metadata": {},
          "execution_count": 38
        }
      ]
    },
    {
      "cell_type": "code",
      "source": [
        "x = np.arange(1,10)\n",
        "2*np.log(x)"
      ],
      "metadata": {
        "colab": {
          "base_uri": "https://localhost:8080/"
        },
        "id": "fOsxbamu0qkO",
        "outputId": "6f357c6a-8bb0-4b23-c5de-c7d1ad6e1401"
      },
      "execution_count": null,
      "outputs": [
        {
          "output_type": "execute_result",
          "data": {
            "text/plain": [
              "array([0.        , 1.38629436, 2.19722458, 2.77258872, 3.21887582,\n",
              "       3.58351894, 3.8918203 , 4.15888308, 4.39444915])"
            ]
          },
          "metadata": {},
          "execution_count": 39
        }
      ]
    },
    {
      "cell_type": "markdown",
      "source": [
        "Para fazermos os gráficos, precisamos primeiramente importar a biblioteca MatPlotLib."
      ],
      "metadata": {
        "id": "WxCc7cwz2znO"
      }
    },
    {
      "cell_type": "code",
      "source": [
        "import matplotlib.pyplot as plt"
      ],
      "metadata": {
        "id": "mTFOsFAy2qWs"
      },
      "execution_count": null,
      "outputs": []
    },
    {
      "cell_type": "markdown",
      "source": [
        "Para entender melhor como funciona o gráfico de uma função logarítmica, precisamos primeiro entender como que se comporta seu contradomínio dependendo do número que estiver na base do logarítmo.\n",
        "\n",
        "Pois, quando um log possui uma base maior que 0 e diferente de 1, seu gráfico é decrescente, porém, quando o logarítmo possui uma base maior que 1, seu gráfico é crescente.\n",
        "\n",
        "Por exemplo:\n"
      ],
      "metadata": {
        "id": "Wo2sUYD04qrf"
      }
    },
    {
      "cell_type": "code",
      "source": [
        "x = np.linspace(1,10)\n",
        "\n",
        "y = np.log(x) / np.log(0.5)\n",
        "\n",
        "plt.figure()\n",
        "plt.plot(x, y)\n",
        "plt.xlabel('x')\n",
        "plt.ylabel('F(x)')\n",
        "plt.title('Gráfico da Função F(x) = log0.5(x)')\n",
        "plt.show()"
      ],
      "metadata": {
        "colab": {
          "base_uri": "https://localhost:8080/",
          "height": 295
        },
        "id": "deJXDy7K4pnZ",
        "outputId": "72cec014-4ea0-4547-a267-2220194e398a"
      },
      "execution_count": null,
      "outputs": [
        {
          "output_type": "display_data",
          "data": {
            "text/plain": [
              "<Figure size 432x288 with 1 Axes>"
            ],
            "image/png": "[encoded data removed]"
          },
          "metadata": {
            "needs_background": "light"
          }
        }
      ]
    },
    {
      "cell_type": "code",
      "source": [
        "x = np.linspace(1,10)\n",
        "\n",
        "y = np.log10(x)\n",
        "\n",
        "plt.figure()\n",
        "plt.plot(x, y)\n",
        "plt.xlabel('x')\n",
        "plt.ylabel('F(x)')\n",
        "plt.title('Gráfico da Função F(x) = log0.5(x)')\n",
        "plt.show()"
      ],
      "metadata": {
        "colab": {
          "base_uri": "https://localhost:8080/",
          "height": 295
        },
        "id": "aNTr51b09_vv",
        "outputId": "2ef4cadb-876e-4a0c-c81c-2edf5084fb03"
      },
      "execution_count": null,
      "outputs": [
        {
          "output_type": "display_data",
          "data": {
            "text/plain": [
              "<Figure size 432x288 with 1 Axes>"
            ],
            "image/png": "[encoded data removed]"
          },
          "metadata": {
            "needs_background": "light"
          }
        }
      ]
    },
    {
      "cell_type": "code",
      "source": [
        "x = np.linspace(1,100)\n",
        "\n",
        "y = 2*np.log10(x)\n",
        "\n",
        "plt.figure()\n",
        "plt.plot(x, y)\n",
        "plt.xlabel('x')\n",
        "plt.ylabel('F(x)')\n",
        "plt.title('Gráfico da Função F(x) = log0.5(x)')\n",
        "plt.show()"
      ],
      "metadata": {
        "colab": {
          "base_uri": "https://localhost:8080/",
          "height": 295
        },
        "id": "aVxx6_quDQ10",
        "outputId": "2c65e0eb-bef3-45d9-d273-a677437bbb27"
      },
      "execution_count": null,
      "outputs": [
        {
          "output_type": "display_data",
          "data": {
            "text/plain": [
              "<Figure size 432x288 with 1 Axes>"
            ],
            "image/png": "[encoded data removed]"
          },
          "metadata": {
            "needs_background": "light"
          }
        }
      ]
    },
    {
      "cell_type": "markdown",
      "source": [
        "# Funções Exponenciais"
      ],
      "metadata": {
        "id": "EKjlkFiEDvum"
      }
    },
    {
      "cell_type": "markdown",
      "source": [
        "Função exponencial é caracterizada por possuir a variável em um expoente de uma base. Essa base deve ser maior que zero e diferente de 1.\n",
        "\n",
        "A lei de formação de uma função exponencial é:\n",
        "\n",
        "\n",
        "```\n",
        "f(x) = aˣ\n",
        "```\n",
        "em que \"x\" é o expoente no expoente e \"a\" é a base."
      ],
      "metadata": {
        "id": "aIraUVlAgLhI"
      }
    },
    {
      "cell_type": "markdown",
      "source": [
        "Para obter uma função exponencial é preciso criar uma função Def, que é definida por três partes:\n",
        "\n",
        "```\n",
        "def nome(parâmetros):\n",
        "    corpo\n",
        "```\n",
        "\n",
        "Nossos parâmetros serão a variável no expoente \"***x***\" e a base \"***a***\", enquanto o corpo será a fórmula da função exponencial \"y = a**x\". \n",
        "\n",
        "Confira abaixo para ter uma melhor visualização da função def:\n"
      ],
      "metadata": {
        "id": "xi63hKrXhqKq"
      }
    },
    {
      "cell_type": "code",
      "source": [
        "def exponencial(a,x):\n",
        "  y = a**x\n",
        "  return y"
      ],
      "metadata": {
        "id": "LEDKopxkeWoJ"
      },
      "execution_count": null,
      "outputs": []
    },
    {
      "cell_type": "markdown",
      "source": [
        "Assim, chamando a função e definindo seus parâmetros teremos o resultado da função exponencial, lembrando sempre que:\n",
        "\n",
        "*x ≠ 0*          e    *0 < base ≠ 1* \n",
        "\n",
        "Veja os exemplos a seguir:"
      ],
      "metadata": {
        "id": "LA2FLrbcmczo"
      }
    },
    {
      "cell_type": "code",
      "source": [
        "exponencial(3,9)"
      ],
      "metadata": {
        "colab": {
          "base_uri": "https://localhost:8080/"
        },
        "id": "20sqEATFe2-5",
        "outputId": "c111c7b2-656a-46f4-9877-4f74788f63e4"
      },
      "execution_count": null,
      "outputs": [
        {
          "output_type": "execute_result",
          "data": {
            "text/plain": [
              "19683"
            ]
          },
          "metadata": {},
          "execution_count": 13
        }
      ]
    },
    {
      "cell_type": "code",
      "source": [
        "exponencial(2,2)"
      ],
      "metadata": {
        "colab": {
          "base_uri": "https://localhost:8080/"
        },
        "id": "dRUB8Dj4e6D8",
        "outputId": "713f1c46-fbf3-45ec-cd29-a0e49676459c"
      },
      "execution_count": null,
      "outputs": [
        {
          "output_type": "execute_result",
          "data": {
            "text/plain": [
              "4"
            ]
          },
          "metadata": {},
          "execution_count": 14
        }
      ]
    },
    {
      "cell_type": "code",
      "source": [
        "exponencial(4,4)"
      ],
      "metadata": {
        "colab": {
          "base_uri": "https://localhost:8080/"
        },
        "id": "Zi8QT8OPe8kY",
        "outputId": "e72228d9-670c-461f-9f14-74ae65b2f0df"
      },
      "execution_count": null,
      "outputs": [
        {
          "output_type": "execute_result",
          "data": {
            "text/plain": [
              "256"
            ]
          },
          "metadata": {},
          "execution_count": 37
        }
      ]
    },
    {
      "cell_type": "markdown",
      "source": [
        "Para construir um gráfico de função exponencial, é preciso lembrar de importar as bibliotecas Numpy e Matplotlib antes de tudo:"
      ],
      "metadata": {
        "id": "llJ8FEgHruzK"
      }
    },
    {
      "cell_type": "code",
      "source": [
        "import numpy as np\n",
        "import matplotlib.pyplot as plt"
      ],
      "metadata": {
        "id": "7KNw-sjJtkkN"
      },
      "execution_count": null,
      "outputs": []
    },
    {
      "cell_type": "markdown",
      "source": [
        "Depois de importadas as bibliotecas, vamos definir o domínio da função exponencial dando valores para \"x\", nossa variável no expoente. Para isso, vamos usar a função linspace que define uma sequência de números uniformemente espaçados:\n",
        "\n",
        "```\n",
        "x = np.linspace(1,4,40)\n",
        "```\n",
        "\n",
        "Nesse linspace acima, por exemplo, pedimos 40 números entre 1 e 4 para nossa variável \"x\".\n",
        "\n",
        "Em seguida, colocamos a fórmula da função exponencial \"_y = a**x_\", alterando a base \"a\" para qualquer número maior que zero e diferente de 1, por exemplo:\n",
        "\n",
        "\n",
        "\n",
        "```\n",
        "y = 3**x\n",
        "```\n",
        "\n",
        "Por fim, usaremos as seguintes ferramentas da biblioteca Matplotlib para obter o gráfico da função:\n",
        "\n",
        "```\n",
        "plt.figure()\n",
        "plt.plot(x,y, color = 'blue', marker = '', linestyle = '-')\n",
        "plt.grid()\n",
        "plt.show()\n",
        "```\n",
        "\n",
        "podendo varia a cor, o marcador e o estilo da linha.\n",
        "\n",
        "Veja os seguintes exemplos:"
      ],
      "metadata": {
        "id": "WBGjRkR1u0f1"
      }
    },
    {
      "cell_type": "code",
      "source": [
        "x = np.linspace (1,4,40)\n",
        "y = 3**x\n",
        "plt.figure()\n",
        "plt.plot(x,y, color = 'blue', marker = '', linestyle = '-')\n",
        "plt.grid()\n",
        "plt.show()"
      ],
      "metadata": {
        "colab": {
          "base_uri": "https://localhost:8080/",
          "height": 265
        },
        "id": "6i0n-pNxugyt",
        "outputId": "91149dd7-b0ad-4172-cce6-0fd317228f61"
      },
      "execution_count": null,
      "outputs": [
        {
          "output_type": "display_data",
          "data": {
            "text/plain": [
              "<Figure size 432x288 with 1 Axes>"
            ],
            "image/png": "[encoded data removed]"
          },
          "metadata": {
            "needs_background": "light"
          }
        }
      ]
    },
    {
      "cell_type": "code",
      "source": [
        "x = np.linspace (4,10,50)\n",
        "y = 6**x\n",
        "plt.figure()\n",
        "plt.plot(x,y, color = 'darkgreen', marker = 'o', linestyle = '--')\n",
        "plt.grid()\n",
        "plt.show()"
      ],
      "metadata": {
        "colab": {
          "base_uri": "https://localhost:8080/",
          "height": 276
        },
        "id": "YsYnsFUMut2X",
        "outputId": "7adabb4d-2daa-4228-89ea-559ced9c8657"
      },
      "execution_count": null,
      "outputs": [
        {
          "output_type": "display_data",
          "data": {
            "text/plain": [
              "<Figure size 432x288 with 1 Axes>"
            ],
            "image/png": "[encoded data removed]"
          },
          "metadata": {
            "needs_background": "light"
          }
        }
      ]
    },
    {
      "cell_type": "code",
      "source": [
        "x = np.linspace (10,15,5)\n",
        "y = 2**x\n",
        "plt.figure()\n",
        "plt.plot(x,y, color = 'red', marker = '^', linestyle = '-')\n",
        "plt.grid()\n",
        "plt.show()"
      ],
      "metadata": {
        "colab": {
          "base_uri": "https://localhost:8080/",
          "height": 265
        },
        "id": "uuzZlWslywRz",
        "outputId": "a2a4c64d-a5b2-4485-d1f2-4c2480038778"
      },
      "execution_count": null,
      "outputs": [
        {
          "output_type": "display_data",
          "data": {
            "text/plain": [
              "<Figure size 432x288 with 1 Axes>"
            ],
            "image/png": "[encoded data removed]"
          },
          "metadata": {
            "needs_background": "light"
          }
        }
      ]
    },
    {
      "cell_type": "markdown",
      "source": [
        "## Funções Compostas com Logarítmo"
      ],
      "metadata": {
        "id": "YJeQOwY4zbrU"
      }
    },
    {
      "cell_type": "markdown",
      "source": [
        "A função composta com logarítmo combina duas ou mais variáveis com a presença de log.\n",
        "\n",
        "Suponha que exista uma função f(x) = log₂(2x) e outra g(x) = log₂(1/x), a função que liga as duas será f(g(x)) ou g(f(x)), ou seja, combinaremos duas funções para calculá-las, aplicando uma função no domínio da outra, substituindo a variável x pela lei da outra função.\n",
        "\n",
        "\n",
        "\n",
        "\n",
        "\n"
      ],
      "metadata": {
        "id": "rleHgReFGIvm"
      }
    },
    {
      "cell_type": "markdown",
      "source": [
        "Para a determinação da função composta g(f(x)), substituímos a variável x pela função f(x), da seguinte forma:\n",
        "\n",
        "```\n",
        "f(x) = np.log2(2*x)\n",
        "g(x) = np.log2(1/f(x))\n",
        "```\n",
        "assim, temos: \n",
        "\n",
        "```\n",
        "g = np.log2(1/np.log2(2*x))\n",
        "```\n"
      ],
      "metadata": {
        "id": "3MrQmNiRKI77"
      }
    },
    {
      "cell_type": "markdown",
      "source": [
        "Para calcular a função composta f(g(x)), é o mesmo processo: substitua a variável x pela função g(x).\n",
        "\n",
        "```\n",
        "g(x) = np.log2(1/x)\n",
        "f(x) = np.log2(2*g(x))\n",
        "```\n",
        "\n",
        "Fazendo isso, obtemos:\n",
        "\n",
        "\n",
        "```\n",
        "f(x) = np.log2(2*np.log2(1/x))\n",
        "```"
      ],
      "metadata": {
        "id": "wl8eN94eYGvQ"
      }
    },
    {
      "cell_type": "markdown",
      "source": [
        "Observe o exemplo:"
      ],
      "metadata": {
        "id": "JAS-ByCNY443"
      }
    },
    {
      "cell_type": "code",
      "source": [
        "import numpy as np"
      ],
      "metadata": {
        "id": "IS2bJ6MhZ8p_"
      },
      "execution_count": null,
      "outputs": []
    },
    {
      "cell_type": "code",
      "source": [
        "x = np.arange(1,10)\n",
        "\n",
        "g = np.log2(1/x)\n",
        "\n",
        "f = np.log2(2*x)\n",
        "\n",
        "gof = np.log2(1/f)\n",
        "\n",
        "gof"
      ],
      "metadata": {
        "colab": {
          "base_uri": "https://localhost:8080/"
        },
        "id": "N9XYfvD_JqAC",
        "outputId": "f86ab0a0-a069-4800-cb17-0861fa5a1444"
      },
      "execution_count": null,
      "outputs": [
        {
          "output_type": "execute_result",
          "data": {
            "text/plain": [
              "array([ 0.        , -1.        , -1.37014335, -1.5849625 , -1.73202085,\n",
              "       -1.84195803, -1.92878906, -2.        , -2.06002144])"
            ]
          },
          "metadata": {},
          "execution_count": 23
        }
      ]
    }
  ]
}