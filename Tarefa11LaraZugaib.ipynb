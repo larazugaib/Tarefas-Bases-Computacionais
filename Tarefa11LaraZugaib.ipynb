{
  "nbformat": 4,
  "nbformat_minor": 0,
  "metadata": {
    "colab": {
      "provenance": [],
      "collapsed_sections": []
    },
    "kernelspec": {
      "name": "python3",
      "display_name": "Python 3"
    },
    "language_info": {
      "name": "python"
    }
  },
  "cells": [
    {
      "cell_type": "markdown",
      "source": [
        "## Lara Zugaib\n",
        "\n",
        "1) Faça a aproximação de π usando a fórmula de Leibniz:\n",
        "\n",
        "π≈4−43+45−47+49+...\n",
        "\n",
        "\n",
        "Calcule (e mostre na tela) a aproximação de π considerando \n",
        "\n",
        "\n",
        "a) 50 termos, b) 500 termos, c) 1000 termos e d) 10000 termos."
      ],
      "metadata": {
        "id": "a_lsgrXrr6HG"
      }
    },
    {
      "cell_type": "code",
      "source": [
        "import numpy as np\n",
        "import pandas as pd"
      ],
      "metadata": {
        "id": "wW9uXPXLpvJ9"
      },
      "execution_count": 2,
      "outputs": []
    },
    {
      "cell_type": "code",
      "source": [
        "s = 0\n",
        "for i in range(501):\n",
        "  s = s + (-1)**i * 4/(2*i + 1)\n",
        "print(i, '~', s)"
      ],
      "metadata": {
        "colab": {
          "base_uri": "https://localhost:8080/"
        },
        "id": "_6hn0euRrFm1",
        "outputId": "dee166de-0c96-469e-94ed-6221f503db16"
      },
      "execution_count": 20,
      "outputs": [
        {
          "output_type": "stream",
          "name": "stdout",
          "text": [
            "500 ~ 3.143588659585789\n"
          ]
        }
      ]
    },
    {
      "cell_type": "code",
      "source": [
        "s = 0\n",
        "for i in range(50):\n",
        "  s = s + (-1)**i * 4/(2*i + 1)\n",
        "print(i, '~', s)"
      ],
      "metadata": {
        "colab": {
          "base_uri": "https://localhost:8080/"
        },
        "id": "dvf1ixa-rern",
        "outputId": "238a0c5b-92e7-4f25-8e82-24ff68c5bf5d"
      },
      "execution_count": 16,
      "outputs": [
        {
          "output_type": "stream",
          "name": "stdout",
          "text": [
            "49 3.121594652591011\n"
          ]
        }
      ]
    },
    {
      "cell_type": "code",
      "source": [
        "s = 0\n",
        "for i in range(1001):\n",
        "  s = s + (-1)**i * 4/(2*i + 1)\n",
        "print(i, '~', s)"
      ],
      "metadata": {
        "colab": {
          "base_uri": "https://localhost:8080/"
        },
        "id": "Mg-GKzc6rk-w",
        "outputId": "cc145cef-6f47-446a-a53b-196f1c399dc6"
      },
      "execution_count": 17,
      "outputs": [
        {
          "output_type": "stream",
          "name": "stdout",
          "text": [
            "1000 3.1425916543395442\n"
          ]
        }
      ]
    },
    {
      "cell_type": "code",
      "source": [
        "s = 0\n",
        "for i in range(100001):\n",
        "  s = s + (-1)**i * 4/(2*i + 1)\n",
        "print(i, '~', s)"
      ],
      "metadata": {
        "colab": {
          "base_uri": "https://localhost:8080/"
        },
        "id": "dxSDBDCMrnGn",
        "outputId": "84f1f219-5e64-47c4-cc02-158d455a337e"
      },
      "execution_count": 18,
      "outputs": [
        {
          "output_type": "stream",
          "name": "stdout",
          "text": [
            "100000 3.1416026534897203\n"
          ]
        }
      ]
    }
  ]
}