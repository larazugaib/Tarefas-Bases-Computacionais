{
  "nbformat": 4,
  "nbformat_minor": 0,
  "metadata": {
    "colab": {
      "provenance": [],
      "toc_visible": true
    },
    "kernelspec": {
      "name": "python3",
      "display_name": "Python 3"
    },
    "language_info": {
      "name": "python"
    }
  },
  "cells": [
    {
      "cell_type": "markdown",
      "source": [
        "# Lara Zugaib"
      ],
      "metadata": {
        "id": "H-e2dFg5a4Go"
      }
    },
    {
      "cell_type": "code",
      "source": [
        "m = 60\n",
        "h = m*60\n",
        "print(f'1.5h: {h*1.5}')\n",
        "print(f'12h: {h*12} ')\n",
        "print(f'24: {h*24}')"
      ],
      "metadata": {
        "colab": {
          "base_uri": "https://localhost:8080/"
        },
        "id": "9yMiCsDNdFQI",
        "outputId": "54e6cfdf-09ba-4ecd-b4ae-32e61850cdfe"
      },
      "execution_count": 8,
      "outputs": [
        {
          "output_type": "stream",
          "name": "stdout",
          "text": [
            "1.5h: 5400.0\n",
            "12h: 43200 \n",
            "24: 86400\n"
          ]
        }
      ]
    }
  ]
}