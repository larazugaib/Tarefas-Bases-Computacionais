{
  "nbformat": 4,
  "nbformat_minor": 0,
  "metadata": {
    "colab": {
      "provenance": [],
      "collapsed_sections": []
    },
    "kernelspec": {
      "name": "python3",
      "display_name": "Python 3"
    },
    "language_info": {
      "name": "python"
    }
  },
  "cells": [
    {
      "cell_type": "markdown",
      "source": [
        "# Questão 1 \n",
        "\n",
        "O índice de massa corporal (IMC) de uma pessoa é calculado por:\n",
        "IMC=mh2\n",
        "\n",
        "em que m é a massa corporal, em kg, e h é a altura, em metros.\n",
        "\n",
        "Escreva um código em Python para calcular o IMC e mostrar a classificação do IMC. \n",
        "\n",
        "Teste para\n",
        "\n",
        "a) m=52 kg e h=1,58 m\n",
        "\n",
        "b) m=83 kg e h=1,75 m\n",
        "\n",
        "c) seu peso e altura."
      ],
      "metadata": {
        "id": "sdEqNxcp46Y1"
      }
    },
    {
      "cell_type": "code",
      "execution_count": null,
      "metadata": {
        "colab": {
          "base_uri": "https://localhost:8080/"
        },
        "id": "X_2zHiXuRy5G",
        "outputId": "22405bab-d1f0-46dd-ebb4-1d934ecbe5d6"
      },
      "outputs": [
        {
          "output_type": "stream",
          "name": "stdout",
          "text": [
            "peso normal\n"
          ]
        }
      ],
      "source": [
        "#A)\n",
        "m = 52\n",
        "h = 1.58\n",
        "\n",
        "IMC = m/h**2\n",
        "\n",
        "if IMC < 17:\n",
        "  print ('muito abaixo do peso')\n",
        "elif IMC >= 17 and IMC <= 18.5:\n",
        "  print ('abaixo do peso')\n",
        "elif IMC >= 18.5 and IMC <= 25:\n",
        "   print ('peso normal')\n",
        "elif IMC  >= 25 and IMC <= 30:\n",
        "   print ('acima do peso')\n",
        "elif IMC >= 30 and IMC <= 35:\n",
        "   print('obesidade grau I')\n",
        "elif IMC >= 35 and IMC <= 40:\n",
        "   print('obesidade grau II')\n",
        "elif IMC >= 40:\n",
        "  print('obesidade grau III')"
      ]
    },
    {
      "cell_type": "code",
      "source": [
        "#B)\n",
        "\n",
        "m = 83\n",
        "h = 1.75\n",
        "\n",
        "IMC = m/h**2\n",
        "\n",
        "if IMC < 17:\n",
        "  print ('muito abaixo do peso')\n",
        "elif IMC >= 17 and IMC <= 18.5:\n",
        "  print ('abaixo do peso')\n",
        "elif IMC >= 18.5 and IMC <= 25:\n",
        "   print ('peso normal')\n",
        "elif IMC  >= 25 and IMC <= 30:\n",
        "   print ('acima do peso')\n",
        "elif IMC >= 30 and IMC <= 35:\n",
        "   print('obesidade grau I')\n",
        "elif IMC >= 35 and IMC <= 40:\n",
        "   print('obesidade grau II')\n",
        "elif IMC >= 40:\n",
        "  print('obesidade grau III')"
      ],
      "metadata": {
        "colab": {
          "base_uri": "https://localhost:8080/"
        },
        "id": "R9dzoDn64Ul7",
        "outputId": "17c996cf-faee-4cb9-bd4d-2455c3fd7fee"
      },
      "execution_count": null,
      "outputs": [
        {
          "output_type": "stream",
          "name": "stdout",
          "text": [
            "acima do peso\n"
          ]
        }
      ]
    },
    {
      "cell_type": "code",
      "source": [
        "#C)\n",
        "m = 48\n",
        "h = 1.53\n",
        "\n",
        "IMC = m/h**2\n",
        "\n",
        "if IMC < 17:\n",
        "  print ('muito abaixo do peso')\n",
        "elif IMC >= 17 and IMC <= 18.5:\n",
        "  print ('abaixo do peso')\n",
        "elif IMC >= 18.5 and IMC <= 25:\n",
        "   print ('peso normal')\n",
        "elif IMC  >= 25 and IMC <= 30:\n",
        "   print ('acima do peso')\n",
        "elif IMC >= 30 and IMC <= 35:\n",
        "   print('obesidade grau I')\n",
        "elif IMC >= 35 and IMC <= 40:\n",
        "   print('obesidade grau II')\n",
        "elif IMC >= 40:\n",
        "  print('obesidade grau III')"
      ],
      "metadata": {
        "colab": {
          "base_uri": "https://localhost:8080/"
        },
        "id": "tftsf5wn4qdL",
        "outputId": "c8d39e48-eb2d-4a44-e814-cf1ee81f2b18"
      },
      "execution_count": null,
      "outputs": [
        {
          "output_type": "stream",
          "name": "stdout",
          "text": [
            "peso normal\n"
          ]
        }
      ]
    },
    {
      "cell_type": "markdown",
      "source": [
        "# Questão 2\n",
        "\n",
        "A acidez A(x) de uma solução de hidróxido de magnésio em ácido clorídrico, sob certas condições experimentais, é dada pela equação:\n",
        "\n",
        "A(x)=x3+3x2−54\n",
        "\n",
        "na qual x é a concentração de íons hidrônio.\n",
        "\n",
        "1) Gere o gráfico de A(x) em função de x para 0 ⩽x⩽8.\n",
        "\n",
        "\n",
        "\n",
        "2) Determine a concentração x do íon de hidrônio que resulta em solução saturada (i.e., com acidez nula). Acrescente uma instrução que gere um ponto vermelho no gráfico correspondente à acidez nula da solução."
      ],
      "metadata": {
        "id": "3mbdWoUS9cIj"
      }
    },
    {
      "cell_type": "code",
      "source": [
        "import numpy as np\n",
        "import matplotlib.pyplot as plt\n",
        "x = np.linspace(0, 8)\n",
        "a = x**3 + 3*x**2 - 54\n",
        "\n",
        "plt.figure()\n",
        "plt.grid()\n",
        "plt.plot(x, a, color = 'black', linestyle = '--')\n",
        "plt.scatter(3,0, color = 'red')\n",
        "plt.annotate ('acidez nula', (3,0))\n",
        "plt.xlabel = ('concentração de íons hidrônio')\n",
        "plt.ylabel = ('acidez')\n",
        "plt.show ()"
      ],
      "metadata": {
        "colab": {
          "base_uri": "https://localhost:8080/",
          "height": 265
        },
        "id": "_yUV4hcw4w5M",
        "outputId": "b26caeb7-e3ac-461d-f2dc-ac9a6df35651"
      },
      "execution_count": null,
      "outputs": [
        {
          "output_type": "display_data",
          "data": {
            "text/plain": [
              "<Figure size 432x288 with 1 Axes>"
            ],
            "image/png": "[encoded data removed]"
          },
          "metadata": {
            "needs_background": "light"
          }
        }
      ]
    },
    {
      "cell_type": "markdown",
      "source": [
        "## Questão 3\n",
        "\n",
        "Faça o gráfico de:\n",
        "\n",
        "\n",
        "f(x)=|x−2|+|2x+1|−x−6\n",
        "\n",
        "\n",
        "Faça o gráfico com x variando de -10 a 10.\n",
        "\n",
        "Mostre o menor valor de x tal que f(x)>0 e x>0."
      ],
      "metadata": {
        "id": "vKtALygOM9OP"
      }
    },
    {
      "cell_type": "code",
      "source": [
        "import numpy as np\n",
        "import matplotlib.pyplot as plt\n",
        "\n",
        "x = np.linspace(-10, 10)\n",
        "\n",
        "f = np.abs(x - 2) + np.abs(2*x + 1) - x - 6\n",
        "\n",
        "plt.figure()\n",
        "plt.grid()\n",
        "plt.plot(x, f, color = 'purple', linestyle = \"--\")\n",
        "plt.title('gráfico com x variando de -10 a 10')\n",
        "plt.xlabel('x')\n",
        "plt.ylabel('f')\n",
        "plt.show()\n",
        "print('np.min((f > 0) & (x < 0))')"
      ],
      "metadata": {
        "colab": {
          "base_uri": "https://localhost:8080/",
          "height": 312
        },
        "id": "bhKwd6na8Uyx",
        "outputId": "9c4e6fac-8428-41f4-f930-4823eac92f50"
      },
      "execution_count": 3,
      "outputs": [
        {
          "output_type": "display_data",
          "data": {
            "text/plain": [
              "<Figure size 432x288 with 1 Axes>"
            ],
            "image/png": "[encoded data removed]"
          },
          "metadata": {
            "needs_background": "light"
          }
        },
        {
          "output_type": "stream",
          "name": "stdout",
          "text": [
            "np.min((f > 0) & (x < 0))\n"
          ]
        }
      ]
    },
    {
      "cell_type": "markdown",
      "source": [
        "##Questão 4\n",
        "\n",
        "Faça o gráfico da seguinte função:\n",
        "\n",
        "f(x)=x2–sen(0.784x2)–2\n",
        "\n",
        "\n",
        "\n",
        "Mostre as raízes da função (i.e. os valores de x para os quais f(x)=0)."
      ],
      "metadata": {
        "id": "uq45VLXyO2Q_"
      }
    },
    {
      "cell_type": "code",
      "source": [
        "import matplotlib.pyplot as plt\n",
        "import numpy as np\n",
        "\n",
        "x = np.linspace(-10, 10)\n",
        "f = x**2 - np.sin(0.784*x**2) - 2\n",
        "\n",
        "plt.figure()\n",
        "plt.plot(x, f, color = 'darkred', linestyle = 'dotted')\n",
        "plt.grid()\n",
        "plt.title('raízes da função')\n",
        "plt.xlabel('x')\n",
        "plt.ylabel('f')\n",
        "plt.show()"
      ],
      "metadata": {
        "colab": {
          "base_uri": "https://localhost:8080/",
          "height": 295
        },
        "id": "1iFTwK3KsRyI",
        "outputId": "02ff4cb8-431b-48f9-aa4f-2c23db8e8d1f"
      },
      "execution_count": 5,
      "outputs": [
        {
          "output_type": "display_data",
          "data": {
            "text/plain": [
              "<Figure size 432x288 with 1 Axes>"
            ],
            "image/png": "[encoded data removed]"
          },
          "metadata": {
            "needs_background": "light"
          }
        }
      ]
    }
  ]
}