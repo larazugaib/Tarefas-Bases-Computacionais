{
  "nbformat": 4,
  "nbformat_minor": 0,
  "metadata": {
    "colab": {
      "provenance": []
    },
    "kernelspec": {
      "name": "python3",
      "display_name": "Python 3"
    },
    "language_info": {
      "name": "python"
    }
  },
  "cells": [
    {
      "cell_type": "markdown",
      "source": [
        "## TAREFA 15 - LARA ZUGAIB"
      ],
      "metadata": {
        "id": "xo-veMDKuIzR"
      }
    },
    {
      "cell_type": "markdown",
      "source": [
        "1) Faça uma função que receba um número a, um número b e um número x. Esta função deve retornar True se x estiver entre a e b e False caso contrário. Além disso a função deve mostrar uma mensagem dizendo se x está no intervalo entre a e b ou não.\n",
        "\n",
        "Teste para\n",
        "\n",
        "a) A = 2, b = 0.5 e c = 0;\n",
        "\n",
        "\n",
        "b) A = 10, b = 0.2 e c = 1\n",
        "\n",
        "\n",
        "c) A = -3, b = -1.5 e c = -10"
      ],
      "metadata": {
        "id": "JQAHoW_wuONx"
      }
    },
    {
      "cell_type": "code",
      "execution_count": 3,
      "metadata": {
        "id": "ZPtlw0QnuE5I"
      },
      "outputs": [],
      "source": [
        "import numpy as np\n",
        "import matplotlib.pyplot as plt\n",
        "import pandas as pd\n",
        "\n",
        "def função(t,A,b,c):\n",
        "  x = A*np.sqrt(1+b*t**2)+c\n",
        "  plt.figure()\n",
        "  plt.plot(t,x,color = 'red', linestyle = '--')\n",
        "  plt.grid()\n",
        "  plt.show()\n",
        "  return x"
      ]
    },
    {
      "cell_type": "markdown",
      "source": [
        "a) A = 2, b = 0.5 e c = 0"
      ],
      "metadata": {
        "id": "xPzeTk3UuU54"
      }
    },
    {
      "cell_type": "code",
      "source": [
        "função(t = np.linspace(0,10,1000), A = 2, b = 0.5, c = 0)\n",
        "plt.show()"
      ],
      "metadata": {
        "colab": {
          "base_uri": "https://localhost:8080/",
          "height": 265
        },
        "id": "GgE9zXrTuR5j",
        "outputId": "3b754a91-8bcf-4a25-ae09-747cce026af3"
      },
      "execution_count": 4,
      "outputs": [
        {
          "output_type": "display_data",
          "data": {
            "text/plain": [
              "<Figure size 432x288 with 1 Axes>"
            ],
            "image/png": "[encoded data removed]"
          },
          "metadata": {
            "needs_background": "light"
          }
        }
      ]
    },
    {
      "cell_type": "markdown",
      "source": [
        "b) A = 10, b = 0.2 e c = 1"
      ],
      "metadata": {
        "id": "PFYmpyl0uaoH"
      }
    },
    {
      "cell_type": "code",
      "source": [
        "função(t = np.arange(0,15,0.2), A = 10, b = 0.2, c = 1)\n",
        "plt.show()"
      ],
      "metadata": {
        "colab": {
          "base_uri": "https://localhost:8080/",
          "height": 267
        },
        "id": "CuPxbssJuZp6",
        "outputId": "f498b198-28e5-4357-ca20-30c921a2476c"
      },
      "execution_count": 5,
      "outputs": [
        {
          "output_type": "display_data",
          "data": {
            "text/plain": [
              "<Figure size 432x288 with 1 Axes>"
            ],
            "image/png": "[encoded data removed]"
          },
          "metadata": {
            "needs_background": "light"
          }
        }
      ]
    },
    {
      "cell_type": "markdown",
      "source": [
        "c) A = -3, b = -1.5 e c = -10"
      ],
      "metadata": {
        "id": "elxS_2oxufoP"
      }
    },
    {
      "cell_type": "code",
      "source": [
        "função(t = np.linspace(-0.5,0.5,500), A = -3, b = -1.5, c = -10)\n",
        "plt.show()"
      ],
      "metadata": {
        "colab": {
          "base_uri": "https://localhost:8080/",
          "height": 265
        },
        "id": "Y-WbYqwvue2i",
        "outputId": "d840740d-b1e1-415e-d12a-454370990712"
      },
      "execution_count": 6,
      "outputs": [
        {
          "output_type": "display_data",
          "data": {
            "text/plain": [
              "<Figure size 432x288 with 1 Axes>"
            ],
            "image/png": "[encoded data removed]"
          },
          "metadata": {
            "needs_background": "light"
          }
        }
      ]
    },
    {
      "cell_type": "markdown",
      "source": [
        "--------------------------------------------------------------------------------"
      ],
      "metadata": {
        "id": "U3DzwYYf22ky"
      }
    },
    {
      "cell_type": "markdown",
      "source": [
        "## 2) Faça uma função que ao ser executada sorteia um número entre 0 e 1. Se esse número for menor do que 0,5 apareça na tela a mensagem 'Cara'. Se esse número for maior do que 0,5 apareça a mensagem 'Coroa'. Uma sugestão do nome da função é 'cara_ou_coroa'.\n",
        "\n",
        "Teste a função chamando 10 vezes a função que você fez.\n",
        "\n",
        "Dica: o comando 'np.random.rand(n)' gera n números aleatórios entre 0 e 1."
      ],
      "metadata": {
        "id": "3YGj1mOs267u"
      }
    },
    {
      "cell_type": "code",
      "source": [
        "def cara_ou_coroa(n):\n",
        "  x = np.random.rand(n)\n",
        "  if x < 0.5:\n",
        "   print('Cara')\n",
        "  else:\n",
        "    print('Coroa')\n",
        "    return x\n",
        "  "
      ],
      "metadata": {
        "id": "F3SEK99N20m-"
      },
      "execution_count": 7,
      "outputs": []
    },
    {
      "cell_type": "code",
      "source": [
        "cara_ou_coroa(1)"
      ],
      "metadata": {
        "colab": {
          "base_uri": "https://localhost:8080/"
        },
        "id": "Tl1aR92X3T34",
        "outputId": "ca2d6f6b-e795-4cf3-e674-384e18766324"
      },
      "execution_count": 8,
      "outputs": [
        {
          "output_type": "stream",
          "name": "stdout",
          "text": [
            "Cara\n"
          ]
        }
      ]
    },
    {
      "cell_type": "code",
      "source": [
        "cara_ou_coroa(1)"
      ],
      "metadata": {
        "colab": {
          "base_uri": "https://localhost:8080/"
        },
        "id": "zwosWELO3WPv",
        "outputId": "165f2333-020f-4cec-a0fb-779ab9c32138"
      },
      "execution_count": 9,
      "outputs": [
        {
          "output_type": "stream",
          "name": "stdout",
          "text": [
            "Coroa\n"
          ]
        },
        {
          "output_type": "execute_result",
          "data": {
            "text/plain": [
              "array([0.7189408])"
            ]
          },
          "metadata": {},
          "execution_count": 9
        }
      ]
    },
    {
      "cell_type": "code",
      "source": [
        "cara_ou_coroa(1)"
      ],
      "metadata": {
        "colab": {
          "base_uri": "https://localhost:8080/"
        },
        "id": "DMm3nB5Z3YKA",
        "outputId": "5cd571e1-e106-4c55-dae4-0bee71070c60"
      },
      "execution_count": 10,
      "outputs": [
        {
          "output_type": "stream",
          "name": "stdout",
          "text": [
            "Cara\n"
          ]
        }
      ]
    },
    {
      "cell_type": "code",
      "source": [
        "cara_ou_coroa(1)"
      ],
      "metadata": {
        "colab": {
          "base_uri": "https://localhost:8080/"
        },
        "id": "NTMkPR-t3aTr",
        "outputId": "12528d6a-ce4d-438d-ee80-7f5a32dd2799"
      },
      "execution_count": 11,
      "outputs": [
        {
          "output_type": "stream",
          "name": "stdout",
          "text": [
            "Cara\n"
          ]
        }
      ]
    },
    {
      "cell_type": "code",
      "source": [
        "cara_ou_coroa(1)"
      ],
      "metadata": {
        "colab": {
          "base_uri": "https://localhost:8080/"
        },
        "id": "Sc8l-XwP3dwV",
        "outputId": "fc46eed2-81d7-43da-c3ea-b8ca0304857a"
      },
      "execution_count": 12,
      "outputs": [
        {
          "output_type": "stream",
          "name": "stdout",
          "text": [
            "Coroa\n"
          ]
        },
        {
          "output_type": "execute_result",
          "data": {
            "text/plain": [
              "array([0.9931821])"
            ]
          },
          "metadata": {},
          "execution_count": 12
        }
      ]
    },
    {
      "cell_type": "code",
      "source": [
        "cara_ou_coroa(1)"
      ],
      "metadata": {
        "colab": {
          "base_uri": "https://localhost:8080/"
        },
        "id": "q-ORMWZK3fFZ",
        "outputId": "12cde424-115f-4bed-8306-eba5b4b8be64"
      },
      "execution_count": 13,
      "outputs": [
        {
          "output_type": "stream",
          "name": "stdout",
          "text": [
            "Cara\n"
          ]
        }
      ]
    },
    {
      "cell_type": "code",
      "source": [
        "cara_ou_coroa(1)"
      ],
      "metadata": {
        "colab": {
          "base_uri": "https://localhost:8080/"
        },
        "id": "CKgdNQ0X3gVY",
        "outputId": "20d30f2a-eeaa-428a-d2ea-cd4df81ec4a4"
      },
      "execution_count": 14,
      "outputs": [
        {
          "output_type": "stream",
          "name": "stdout",
          "text": [
            "Coroa\n"
          ]
        },
        {
          "output_type": "execute_result",
          "data": {
            "text/plain": [
              "array([0.97412858])"
            ]
          },
          "metadata": {},
          "execution_count": 14
        }
      ]
    },
    {
      "cell_type": "code",
      "source": [
        "cara_ou_coroa(1)"
      ],
      "metadata": {
        "colab": {
          "base_uri": "https://localhost:8080/"
        },
        "id": "O7rgkaYd3llP",
        "outputId": "4e190302-a1c1-4aec-de7f-61ffd8bcdb69"
      },
      "execution_count": 15,
      "outputs": [
        {
          "output_type": "stream",
          "name": "stdout",
          "text": [
            "Cara\n"
          ]
        }
      ]
    },
    {
      "cell_type": "code",
      "source": [
        "cara_ou_coroa(1)"
      ],
      "metadata": {
        "colab": {
          "base_uri": "https://localhost:8080/"
        },
        "id": "ne_iBKTy3mrr",
        "outputId": "979e1260-3636-44d3-a605-664609c25eda"
      },
      "execution_count": 16,
      "outputs": [
        {
          "output_type": "stream",
          "name": "stdout",
          "text": [
            "Cara\n"
          ]
        }
      ]
    },
    {
      "cell_type": "code",
      "source": [
        "cara_ou_coroa(1)"
      ],
      "metadata": {
        "colab": {
          "base_uri": "https://localhost:8080/"
        },
        "id": "4itT7au83oO_",
        "outputId": "38550105-9242-4f39-a6eb-32e7d6bc6b08"
      },
      "execution_count": 17,
      "outputs": [
        {
          "output_type": "stream",
          "name": "stdout",
          "text": [
            "Coroa\n"
          ]
        },
        {
          "output_type": "execute_result",
          "data": {
            "text/plain": [
              "array([0.67475797])"
            ]
          },
          "metadata": {},
          "execution_count": 17
        }
      ]
    },
    {
      "cell_type": "markdown",
      "source": [
        "---------------------------------------------------------------------------------------"
      ],
      "metadata": {
        "id": "pk-stOvP3sXU"
      }
    },
    {
      "cell_type": "markdown",
      "source": [
        "## 3) Faça uma função que retorne a renda média nos jogos em que determinado time seja o time da casa. As entradas devem ser o DataFrame do Pandas com os jogos e o nome do time mandante.\n",
        "\n",
        "Para testar a função, use o arquivo com todos os resultados do campeonato Brasileiro de futebol de 2018 (dados obtidos desta e desta página da Wikipedia) e escolha 4 times diferentes para saber quala renda média por jogo.\n",
        "\n",
        "Dica: para usar o valor de uma variável (que tenha o nome var, por exemplo) dentro da função query, usar @var."
      ],
      "metadata": {
        "id": "HdAfgDqD3w0K"
      }
    },
    {
      "cell_type": "code",
      "source": [
        "tabela = pd.read_csv('https://raw.githubusercontent.com/BMClab/BasesComputacionais/master/dados/tabelaBrasileirao2018.csv')\n",
        "tabela"
      ],
      "metadata": {
        "id": "yGfOuEo13rTF"
      },
      "execution_count": null,
      "outputs": []
    },
    {
      "cell_type": "code",
      "source": [
        "def media_casa (var):\n",
        "  m = tabela.query('Mandante == @var')['Renda (R$)'].mean()\n",
        "  return m"
      ],
      "metadata": {
        "id": "RY9IfdS4Ld4m"
      },
      "execution_count": 128,
      "outputs": []
    },
    {
      "cell_type": "code",
      "source": [
        "media_casa ('São Paulo')"
      ],
      "metadata": {
        "colab": {
          "base_uri": "https://localhost:8080/"
        },
        "id": "dJXQLZA3L7nT",
        "outputId": "a9e9e53d-9b59-4ae0-c465-c9ef5a69aad9"
      },
      "execution_count": 133,
      "outputs": [
        {
          "output_type": "execute_result",
          "data": {
            "text/plain": [
              "1188518.7389473685"
            ]
          },
          "metadata": {},
          "execution_count": 133
        }
      ]
    },
    {
      "cell_type": "code",
      "source": [
        "media_casa('Paraná')"
      ],
      "metadata": {
        "colab": {
          "base_uri": "https://localhost:8080/"
        },
        "id": "_fx5mzriMK1P",
        "outputId": "3e76543b-4fac-46d8-ea1f-e0e795fe178c"
      },
      "execution_count": 135,
      "outputs": [
        {
          "output_type": "execute_result",
          "data": {
            "text/plain": [
              "248237.1052631579"
            ]
          },
          "metadata": {},
          "execution_count": 135
        }
      ]
    },
    {
      "cell_type": "code",
      "source": [
        "media_casa('Chapecoense')"
      ],
      "metadata": {
        "colab": {
          "base_uri": "https://localhost:8080/"
        },
        "id": "EAgVNGquMmh3",
        "outputId": "a9d522e2-7e2b-47f0-d84f-f942312846ab"
      },
      "execution_count": 136,
      "outputs": [
        {
          "output_type": "execute_result",
          "data": {
            "text/plain": [
              "256148.15789473685"
            ]
          },
          "metadata": {},
          "execution_count": 136
        }
      ]
    },
    {
      "cell_type": "markdown",
      "source": [
        "---------------------------------------------------------------------------------------------------"
      ],
      "metadata": {
        "id": "iyWN5zJ_MxNR"
      }
    },
    {
      "cell_type": "markdown",
      "source": [
        "##4) Dados valores x1, y1, x2, y2, sendo esses valores das coordenadas (x1,y1) e (x2,y2) de dois pontos.\n",
        "\n",
        "Fazer uma função que encontre a inclinação da reta m e o ponto b em que a reta cruza o eixo y da reta y=mx+b que passa pelos dois pontos. Além disso deve ser feito o gráfico da reta encontrada com N pontos, além de mostrar os dois pontos dados como entrada, indicados com marcadores quadrados.\n",
        "\n",
        "Essa função deve retornar m e b e receber como parâmetros x1, y1, x2, y2 e N.\n",
        "\n",
        "Dica: a inclinação de uma reta, dados dois pontos é:\n",
        "\n",
        "m=y2−y1x2−x1\n",
        "e o ponto que cruza o eixo y é:\n",
        "\n",
        "b=y1−mx1\n",
        "Teste para:\n",
        "\n",
        "a) x1 = -19, y1 = 2, x2 = 10, y2 = -10, N = 1000\n",
        "b) x1 = -2, y1 = 8, x2 = 20, y2 = 43, N = 2000\n",
        "c) x1 = 7, y1 = 13, x2 = 1, y2 = 2, N = 500"
      ],
      "metadata": {
        "id": "mJeVfX48M3lF"
      }
    },
    {
      "cell_type": "code",
      "source": [
        "def funcao(x1, y1, x2, y2, N):\n",
        "  plt.figure()\n",
        "  m = (y2-y1)/(x2 - x1)\n",
        "  b = y1 - (m*x1)\n",
        "  x = np.linspace(-100,100,N)\n",
        "  y = m*x + b\n",
        "\n",
        "  plt.plot(y)\n",
        "  plt.grid()\n",
        "  plt.show()\n",
        "  \n",
        "  return m, b"
      ],
      "metadata": {
        "id": "sfjz0WMdM1zg"
      },
      "execution_count": 138,
      "outputs": []
    },
    {
      "cell_type": "markdown",
      "source": [
        "## a) x1 = -19, y1 = 2, x2 = 10, y2 = -10, N = 1000"
      ],
      "metadata": {
        "id": "fZyLdBwDNf1C"
      }
    },
    {
      "cell_type": "code",
      "source": [
        "funcao(x1 = -19, y1 = 2, x2 = 10, y2 = -10, N = 1000)"
      ],
      "metadata": {
        "colab": {
          "base_uri": "https://localhost:8080/",
          "height": 282
        },
        "id": "ae8qYsoxNevV",
        "outputId": "655fd10a-c572-40b9-c25b-3dfbf01090f3"
      },
      "execution_count": 140,
      "outputs": [
        {
          "output_type": "display_data",
          "data": {
            "text/plain": [
              "<Figure size 432x288 with 1 Axes>"
            ],
            "image/png": "[encoded data removed]"
          },
          "metadata": {
            "needs_background": "light"
          }
        },
        {
          "output_type": "execute_result",
          "data": {
            "text/plain": [
              "(-0.41379310344827586, -5.862068965517241)"
            ]
          },
          "metadata": {},
          "execution_count": 140
        }
      ]
    },
    {
      "cell_type": "code",
      "source": [
        "funcao(x1 = -2, y1 = 8, x2 = 20, y2 = 43, N = 2000)"
      ],
      "metadata": {
        "colab": {
          "base_uri": "https://localhost:8080/",
          "height": 282
        },
        "id": "8l-XuW0ZNnnY",
        "outputId": "459f6bf5-78d4-43ef-a150-a9dc3beaae3e"
      },
      "execution_count": 141,
      "outputs": [
        {
          "output_type": "display_data",
          "data": {
            "text/plain": [
              "<Figure size 432x288 with 1 Axes>"
            ],
            "image/png": "[encoded data removed]"
          },
          "metadata": {
            "needs_background": "light"
          }
        },
        {
          "output_type": "execute_result",
          "data": {
            "text/plain": [
              "(1.5909090909090908, 11.181818181818182)"
            ]
          },
          "metadata": {},
          "execution_count": 141
        }
      ]
    },
    {
      "cell_type": "code",
      "source": [
        "funcao(x1 = 7, y1 = 13, x2 = 1, y2 = 2, N = 500)"
      ],
      "metadata": {
        "colab": {
          "base_uri": "https://localhost:8080/",
          "height": 285
        },
        "id": "2hveoTnUNvK8",
        "outputId": "466dfdac-dfcb-4539-ae7f-fe7834e26269"
      },
      "execution_count": 142,
      "outputs": [
        {
          "output_type": "display_data",
          "data": {
            "text/plain": [
              "<Figure size 432x288 with 1 Axes>"
            ],
            "image/png": "[encoded data removed]"
          },
          "metadata": {
            "needs_background": "light"
          }
        },
        {
          "output_type": "execute_result",
          "data": {
            "text/plain": [
              "(1.8333333333333333, 0.16666666666666785)"
            ]
          },
          "metadata": {},
          "execution_count": 142
        }
      ]
    }
  ]
}