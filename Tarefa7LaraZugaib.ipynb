{
  "nbformat": 4,
  "nbformat_minor": 0,
  "metadata": {
    "colab": {
      "provenance": [],
      "collapsed_sections": []
    },
    "kernelspec": {
      "name": "python3",
      "display_name": "Python 3"
    },
    "language_info": {
      "name": "python"
    }
  },
  "cells": [
    {
      "cell_type": "markdown",
      "source": [
        "TAREFA 7 - LARA ZUGAIB"
      ],
      "metadata": {
        "id": "j-TlBBC_iL6i"
      }
    },
    {
      "cell_type": "code",
      "execution_count": 1,
      "metadata": {
        "colab": {
          "base_uri": "https://localhost:8080/"
        },
        "id": "RrTQEZEjiJVR",
        "outputId": "2d6c1fa8-93ab-46bf-955b-87bcd143fe82"
      },
      "outputs": [
        {
          "output_type": "stream",
          "name": "stdout",
          "text": [
            "O número x é ímpar\n"
          ]
        }
      ],
      "source": [
        "x = 1\n",
        "\n",
        "resto = x%2\n",
        "if resto == 0:\n",
        "  print('O número x é par')\n",
        "if resto != 0:\n",
        "  print('O número x é ímpar')"
      ]
    }
  ]
}