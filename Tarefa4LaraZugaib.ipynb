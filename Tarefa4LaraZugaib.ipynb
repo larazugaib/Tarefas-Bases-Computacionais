{
  "nbformat": 4,
  "nbformat_minor": 0,
  "metadata": {
    "colab": {
      "provenance": [],
      "collapsed_sections": []
    },
    "kernelspec": {
      "name": "python3",
      "display_name": "Python 3"
    },
    "language_info": {
      "name": "python"
    }
  },
  "cells": [
    {
      "cell_type": "markdown",
      "source": [
        "## LARA ZUGAIB - TAREFA 4 DE BCC ##"
      ],
      "metadata": {
        "id": "CckGhb92VvIN"
      }
    },
    {
      "cell_type": "markdown",
      "source": [
        "**Exercício 1**"
      ],
      "metadata": {
        "id": "SOIndlZgYfSJ"
      }
    },
    {
      "cell_type": "markdown",
      "source": [
        "1. a)"
      ],
      "metadata": {
        "id": "7C308Pu8Ls8e"
      }
    },
    {
      "cell_type": "code",
      "source": [
        "import numpy as np\n",
        "r = 0.32\n",
        "volume = 4/3 * np.pi * r**3\n",
        "print(f'resultado: {volume: .4f}') "
      ],
      "metadata": {
        "colab": {
          "base_uri": "https://localhost:8080/"
        },
        "id": "nt8o4YS3Yr0f",
        "outputId": "aa1b63ae-deb8-4b53-b972-011d79a864c7"
      },
      "execution_count": null,
      "outputs": [
        {
          "output_type": "stream",
          "name": "stdout",
          "text": [
            "resultado:  0.1373\n"
          ]
        }
      ]
    },
    {
      "cell_type": "markdown",
      "source": [
        "1. b)"
      ],
      "metadata": {
        "id": "eC7PFsh-Lumy"
      }
    },
    {
      "cell_type": "code",
      "source": [
        "import numpy as np\n",
        "r = 1\n",
        "volume = 4/3 * np.pi * r**3\n",
        "print(f'resultado: {volume: .4f}')"
      ],
      "metadata": {
        "colab": {
          "base_uri": "https://localhost:8080/"
        },
        "id": "BFvfb2UAZB0p",
        "outputId": "4e6c6f50-6698-4a07-c682-f0328f0665fa"
      },
      "execution_count": null,
      "outputs": [
        {
          "output_type": "stream",
          "name": "stdout",
          "text": [
            "resultado:  4.1888\n"
          ]
        }
      ]
    },
    {
      "cell_type": "markdown",
      "source": [
        "1. c)"
      ],
      "metadata": {
        "id": "C-d6CGc6LwFJ"
      }
    },
    {
      "cell_type": "code",
      "source": [
        "import numpy as np\n",
        "r = 1.9\n",
        "volume = 4/3 * np.pi * r**3\n",
        "print(f'resultado: {volume: .4f}')"
      ],
      "metadata": {
        "colab": {
          "base_uri": "https://localhost:8080/"
        },
        "id": "PgIVMhEnZMnw",
        "outputId": "7db0114c-40b6-434a-d373-91379f2dbf39"
      },
      "execution_count": null,
      "outputs": [
        {
          "output_type": "stream",
          "name": "stdout",
          "text": [
            "resultado:  28.7309\n"
          ]
        }
      ]
    },
    {
      "cell_type": "markdown",
      "source": [
        "**Exercício 2**"
      ],
      "metadata": {
        "id": "qpMdqTqKV0TI"
      }
    },
    {
      "cell_type": "markdown",
      "source": [
        "2. a)"
      ],
      "metadata": {
        "id": "gEbUPthCLiAb"
      }
    },
    {
      "cell_type": "code",
      "source": [
        "C = -10\n",
        "F = C*1.8 + 32\n",
        "print(f'resultado: {F}')"
      ],
      "metadata": {
        "colab": {
          "base_uri": "https://localhost:8080/"
        },
        "id": "Sjf558ZuV7Xe",
        "outputId": "0c815b4f-d5d1-4ed3-c673-7f5d0fd06c10"
      },
      "execution_count": null,
      "outputs": [
        {
          "output_type": "stream",
          "name": "stdout",
          "text": [
            "resultado: 14.0\n"
          ]
        }
      ]
    },
    {
      "cell_type": "markdown",
      "source": [
        "2. b)"
      ],
      "metadata": {
        "id": "zbhYV_DqLlBK"
      }
    },
    {
      "cell_type": "code",
      "source": [
        "C = 30\n",
        "F = C*1.8 + 32\n",
        "print(f'resultado: {F}')"
      ],
      "metadata": {
        "colab": {
          "base_uri": "https://localhost:8080/"
        },
        "id": "QZlKaTbwXxwI",
        "outputId": "d1939b3b-c7c2-40d8-e7bb-cc352b34a439"
      },
      "execution_count": null,
      "outputs": [
        {
          "output_type": "stream",
          "name": "stdout",
          "text": [
            "resultado: 86.0\n"
          ]
        }
      ]
    },
    {
      "cell_type": "markdown",
      "source": [
        "2. c)"
      ],
      "metadata": {
        "id": "Xond1Io5Lo2n"
      }
    },
    {
      "cell_type": "code",
      "source": [
        "C = 5\n",
        "F = C*1.8 + 32\n",
        "print(f'resultado: {F}')"
      ],
      "metadata": {
        "colab": {
          "base_uri": "https://localhost:8080/"
        },
        "id": "z2lFCv_hYTKy",
        "outputId": "4a464246-a9a5-4565-9cc2-c377c82f5611"
      },
      "execution_count": null,
      "outputs": [
        {
          "output_type": "stream",
          "name": "stdout",
          "text": [
            "resultado: 41.0\n"
          ]
        }
      ]
    },
    {
      "cell_type": "markdown",
      "source": [
        "**Exercício 3**"
      ],
      "metadata": {
        "id": "6r-9YxeGaKSa"
      }
    },
    {
      "cell_type": "markdown",
      "source": [
        "*3. a)*"
      ],
      "metadata": {
        "id": "C6A_t3_7Kx7d"
      }
    },
    {
      "cell_type": "code",
      "source": [
        "import numpy as np\n",
        "a = 1\n",
        "b = 2\n",
        "ang = np.sqrt(3)/2\n",
        "C = np.sqrt(a**2 + b**2 - 2*a*b*np.cos(ang))\n",
        "print(f'resultado: {C: .4f}')"
      ],
      "metadata": {
        "colab": {
          "base_uri": "https://localhost:8080/"
        },
        "id": "yEOR-GyraPPB",
        "outputId": "762a20aa-038f-4ee0-f4d2-118e2e3697f6"
      },
      "execution_count": null,
      "outputs": [
        {
          "output_type": "stream",
          "name": "stdout",
          "text": [
            "resultado:  1.5520\n"
          ]
        }
      ]
    },
    {
      "cell_type": "markdown",
      "source": [
        "*3. b)*"
      ],
      "metadata": {
        "id": "2HbOPCPsK03Y"
      }
    },
    {
      "cell_type": "code",
      "source": [
        "import numpy as np\n",
        "a = 3\n",
        "b = 1\n",
        "ang = np.pi/4\n",
        "C = np.sqrt(a**2 + b**2 - 2*a*b*np.cos(ang))\n",
        "print(f'resultado: {C: .4f}')"
      ],
      "metadata": {
        "colab": {
          "base_uri": "https://localhost:8080/"
        },
        "id": "BoR9lNoMagin",
        "outputId": "330300b1-ecf9-4b3f-a8d8-bd1bf9b75e9a"
      },
      "execution_count": null,
      "outputs": [
        {
          "output_type": "stream",
          "name": "stdout",
          "text": [
            "resultado:  2.3994\n"
          ]
        }
      ]
    },
    {
      "cell_type": "markdown",
      "source": [
        "*3. c)*"
      ],
      "metadata": {
        "id": "Wb26pr6RK5LY"
      }
    },
    {
      "cell_type": "code",
      "source": [
        "import numpy as np\n",
        "a = 10\n",
        "b = 11\n",
        "ang = np.pi/12\n",
        "C = np.sqrt(a**2 + b**2 - 2*a*b*np.cos(ang))\n",
        "print(f'resultado: {C: .4f}')"
      ],
      "metadata": {
        "colab": {
          "base_uri": "https://localhost:8080/"
        },
        "id": "-dTDAw_vbWvI",
        "outputId": "967851f9-e9b7-4fbd-888f-c3aca453d377"
      },
      "execution_count": null,
      "outputs": [
        {
          "output_type": "stream",
          "name": "stdout",
          "text": [
            "resultado:  2.9148\n"
          ]
        }
      ]
    },
    {
      "cell_type": "markdown",
      "source": [
        "**Exercício 4**"
      ],
      "metadata": {
        "id": "nqSQOG9Wb-zC"
      }
    },
    {
      "cell_type": "markdown",
      "source": [
        "*4. a)*"
      ],
      "metadata": {
        "id": "xA5ts2TtKga8"
      }
    },
    {
      "cell_type": "code",
      "source": [
        "import numpy as np\n",
        "i = 30\n",
        "fibonacci = np.floor((1 + np.sqrt(5)/2)**i - (1 - np.sqrt(5)/2)**i / np.sqrt(5))\n",
        "print(f'resultado: {fibonacci}')"
      ],
      "metadata": {
        "colab": {
          "base_uri": "https://localhost:8080/"
        },
        "id": "007d0149cDPK",
        "outputId": "bf7a1a0f-1c3c-471d-c5ee-abe0679ecd24"
      },
      "execution_count": null,
      "outputs": [
        {
          "output_type": "stream",
          "name": "stdout",
          "text": [
            "resultado: 5997741619.0\n"
          ]
        }
      ]
    },
    {
      "cell_type": "markdown",
      "source": [
        "*4. b)*"
      ],
      "metadata": {
        "id": "aVxcLRyXKnpF"
      }
    },
    {
      "cell_type": "code",
      "source": [
        "i = 31\n",
        "fibonacci = np.floor((1 + np.sqrt(5)/2)**i - (1 - np.sqrt(5)/2)**i / np.sqrt(5))\n",
        "print(f'resultado: {fibonacci}')"
      ],
      "metadata": {
        "colab": {
          "base_uri": "https://localhost:8080/"
        },
        "id": "2pWDQjUkcIvB",
        "outputId": "4f1a641c-310b-4341-dfec-ac8a7ee6b741"
      },
      "execution_count": null,
      "outputs": [
        {
          "output_type": "stream",
          "name": "stdout",
          "text": [
            "resultado: 12703420605.0\n"
          ]
        }
      ]
    },
    {
      "cell_type": "markdown",
      "source": [
        "*4. c)*"
      ],
      "metadata": {
        "id": "XzV_I8gaKsav"
      }
    },
    {
      "cell_type": "code",
      "source": [
        "i = 32\n",
        "fibonacci = np.floor((1 + np.sqrt(5)/2)**i - (1 - np.sqrt(5)/2)**i / np.sqrt(5))\n",
        "print(f'resultado: {fibonacci}')"
      ],
      "metadata": {
        "colab": {
          "base_uri": "https://localhost:8080/"
        },
        "id": "-n0DUi1ecL1w",
        "outputId": "e7b3b2d3-3cba-42af-98f1-23aef3dc7e06"
      },
      "execution_count": null,
      "outputs": [
        {
          "output_type": "stream",
          "name": "stdout",
          "text": [
            "resultado: 26906276616.0\n"
          ]
        }
      ]
    }
  ]
}