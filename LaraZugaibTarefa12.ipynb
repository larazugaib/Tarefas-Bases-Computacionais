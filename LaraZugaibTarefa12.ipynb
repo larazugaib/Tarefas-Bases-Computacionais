{
  "nbformat": 4,
  "nbformat_minor": 0,
  "metadata": {
    "colab": {
      "provenance": [],
      "collapsed_sections": []
    },
    "kernelspec": {
      "name": "python3",
      "display_name": "Python 3"
    },
    "language_info": {
      "name": "python"
    }
  },
  "cells": [
    {
      "cell_type": "markdown",
      "source": [
        "## Lara Zugaib - Tarefa 12"
      ],
      "metadata": {
        "id": "ATSMO0wuh7FO"
      }
    },
    {
      "cell_type": "markdown",
      "source": [
        "1) Três séries, v,y e t seguem as seguintes regras:\n",
        "\n",
        "v[i]=v[i−1]+0,01.(−9,81)\n",
        "\n",
        "y[i]=y[i−1]+0,01v[i−1]\n",
        "\n",
        "t[i]=t[i−1]+0,01\n",
        "\n",
        "\n",
        "Começando com v[0] = 10 m/s, y[0] = 0 m e t[0] = 0 s, calcule os 250 primeiros valores das três séries.\n",
        "\n",
        "Faça os gráficos com os valores encontrados de y em função de t e dos valores encontrados de v em função de t."
      ],
      "metadata": {
        "id": "Ev1lVbN5iAXH"
      }
    },
    {
      "cell_type": "code",
      "source": [
        "import numpy as np\n",
        "v = np.zeros((250))\n",
        "v[0]= 10\n",
        "for i in range(1, len(v)):\n",
        "  v[i]= v[i-1] + 0.01*(-9.81)"
      ],
      "metadata": {
        "id": "qUydrHw-iKRw"
      },
      "execution_count": 36,
      "outputs": []
    },
    {
      "cell_type": "code",
      "source": [
        "y = np.zeros((250))\n",
        "y[0]= 0\n",
        "for i in range(1, len(y)):\n",
        "  y[i]= y[i-1] + 0.01*v[i-1]\n"
      ],
      "metadata": {
        "id": "B2TBHGWNlqfo"
      },
      "execution_count": 40,
      "outputs": []
    },
    {
      "cell_type": "code",
      "source": [
        "t = np.zeros((250))\n",
        "t[0]= 0\n",
        "for i in range(1, len(y)):\n",
        "  t[i]= t[i-1] + 0.01"
      ],
      "metadata": {
        "id": "4epXQhRwnabd"
      },
      "execution_count": 42,
      "outputs": []
    },
    {
      "cell_type": "code",
      "source": [
        "import pandas as pd\n",
        "\n",
        "plt.figure()\n",
        "plt.plot(t, y, color='purple', linestyle='dotted')\n",
        "plt.grid()\n",
        "plt.show()"
      ],
      "metadata": {
        "colab": {
          "base_uri": "https://localhost:8080/",
          "height": 265
        },
        "id": "arTr8qqFnlnx",
        "outputId": "036039bf-a784-40c2-fb39-eef673aafd90"
      },
      "execution_count": 43,
      "outputs": [
        {
          "output_type": "display_data",
          "data": {
            "text/plain": [
              "<Figure size 432x288 with 1 Axes>"
            ],
            "image/png": "[encoded data removed]"
          },
          "metadata": {
            "needs_background": "light"
          }
        }
      ]
    },
    {
      "cell_type": "code",
      "source": [
        "plt.figure()\n",
        "plt.plot(t,v, color='red', linestyle='--')\n",
        "plt.grid()\n",
        "plt.show()"
      ],
      "metadata": {
        "colab": {
          "base_uri": "https://localhost:8080/",
          "height": 265
        },
        "id": "6BPpkC_On9tM",
        "outputId": "c9adef53-f66d-4f06-b611-fbbc97929144"
      },
      "execution_count": 44,
      "outputs": [
        {
          "output_type": "display_data",
          "data": {
            "text/plain": [
              "<Figure size 432x288 with 1 Axes>"
            ],
            "image/png": "[encoded data removed]"
          },
          "metadata": {
            "needs_background": "light"
          }
        }
      ]
    },
    {
      "cell_type": "markdown",
      "source": [
        "##Questão 2\n",
        "\n",
        "O valor de ln(1+x) pode ser aproximado por (apenas para |x|<1):\n",
        "\n",
        "\n",
        "\n",
        "ln(1+x)=x−x22+x33...=∑i=1n(−1)i+1xii\n",
        "\n",
        "\n",
        "\n",
        "ln é o logaritmo na base e (conhecido como logaritmo natural).\n",
        "\n",
        "\n",
        "\n",
        "\n",
        "Use a expressão acima com n = 100 para encontrar ln(0.5).\n",
        "\n",
        "\n",
        "\n",
        "\n",
        "Compare o resultado com a função do Numpy np.log(0.5)."
      ],
      "metadata": {
        "id": "iRZzb_skClR8"
      }
    },
    {
      "cell_type": "code",
      "source": [
        "import matplotlib.pyplot as plt\n",
        "import numpy as np\n",
        "import pandas as pd\n",
        "np.log(0.5)"
      ],
      "metadata": {
        "colab": {
          "base_uri": "https://localhost:8080/"
        },
        "id": "lGNennO3CsZY",
        "outputId": "cf9a755a-4af2-4cc7-da0e-ad54170b7982"
      },
      "execution_count": null,
      "outputs": [
        {
          "output_type": "execute_result",
          "data": {
            "text/plain": [
              "-0.6931471805599453"
            ]
          },
          "metadata": {},
          "execution_count": 27
        }
      ]
    },
    {
      "cell_type": "code",
      "source": [
        "n = 100\n",
        "s = 0\n",
        "x = float (- 0.5)\n",
        "for i in range(1, n):\n",
        "  s = s + ((-1)**(i+1) * ((x**i)/(i)))\n",
        "print(i, s)"
      ],
      "metadata": {
        "colab": {
          "base_uri": "https://localhost:8080/"
        },
        "id": "ODPlQkbkC0j9",
        "outputId": "44bc74cf-46ca-4ab8-bfd1-7b6d373f8750"
      },
      "execution_count": null,
      "outputs": [
        {
          "output_type": "stream",
          "name": "stdout",
          "text": [
            "99 -0.6931471805599451\n"
          ]
        }
      ]
    },
    {
      "cell_type": "markdown",
      "source": [
        "## Questão 3"
      ],
      "metadata": {
        "id": "_1Rxz1gE2moS"
      }
    },
    {
      "cell_type": "markdown",
      "source": [
        "Calcular a aproximação de uma onda quadrada seguindo a seguinte expressão (a expressão abaixo é calculada utilizando uma teoria matemática conhecida como série de Fourier):\n",
        "\n",
        "\n",
        "x(t)≈4π∑i=1Nsin[(2i−1)t]2i−1\n",
        "\n",
        "\n",
        "\n",
        "Faça a aproximação para 0⩽t⩽10 (utilize um número suficiente de pontos no vetor t para poder observar o gráfico de x(t), algo em torno de 100000 pontos).\n",
        "\n",
        "\n",
        "\n",
        "\n",
        "\n",
        "Faça a aproximação para a) N = 10, b) N = 100, c) N = 1000 e d) N = 10000. Coloque todas as aproximações em um único gráfico, com a aproximação de x(t) em função de t."
      ],
      "metadata": {
        "id": "4C-lOWN02o48"
      }
    },
    {
      "cell_type": "markdown",
      "source": [
        "**a) N = 10**"
      ],
      "metadata": {
        "id": "9q6kqcdJ21J9"
      }
    },
    {
      "cell_type": "code",
      "source": [
        "import matplotlib.pyplot as plt\n",
        "import numpy as np\n",
        "import pandas as pd\n",
        "\n",
        "s1 = 0\n",
        "t = np.linspace(0,10, 11)\n",
        "for i in range(11):\n",
        "  s1 = s1 + (4/np.pi)*((np.sin((2*i-1)*t)/(2*i-1)))\n",
        "print(i, s1)"
      ],
      "metadata": {
        "colab": {
          "base_uri": "https://localhost:8080/"
        },
        "id": "pJOJ8SuV2z4d",
        "outputId": "1d99e31a-f551-4228-ada7-c489a91f5d81"
      },
      "execution_count": 32,
      "outputs": [
        {
          "output_type": "stream",
          "name": "stdout",
          "text": [
            "10 [ 0.          2.05493686  2.18160709  1.34912973 -1.96997093 -2.19215357\n",
            " -1.27735071  1.84335842  2.29104979  1.5634942  -1.66831622]\n"
          ]
        }
      ]
    },
    {
      "cell_type": "markdown",
      "source": [
        "**b) 100**"
      ],
      "metadata": {
        "id": "P-jsRexf4cOg"
      }
    },
    {
      "cell_type": "code",
      "source": [
        "import numpy as np\n",
        "s2 = 0\n",
        "t = np.linspace(0, 10, 1001)\n",
        "for i in range(101):\n",
        "  s2 = s2 + (4/np.pi)*((np.sin((2*i-1)*t)/(2*i-1)))\n",
        "print(i, s2)"
      ],
      "metadata": {
        "colab": {
          "base_uri": "https://localhost:8080/"
        },
        "id": "NWwlHAwD4HxV",
        "outputId": "542d1998-c0c3-4ee1-b95c-dca16b959181"
      },
      "execution_count": 27,
      "outputs": [
        {
          "output_type": "stream",
          "name": "stdout",
          "text": [
            "100 [ 0.          1.03477445  1.1447749  ... -1.67400785 -1.67602002\n",
            " -1.69477696]\n"
          ]
        }
      ]
    },
    {
      "cell_type": "markdown",
      "source": [
        "**c) 1000**"
      ],
      "metadata": {
        "id": "k3CxiTEu4ox3"
      }
    },
    {
      "cell_type": "code",
      "source": [
        "import numpy as np\n",
        "s3 = 0\n",
        "t = np.linspace(0,10, 100001)           \n",
        "for i in range(1001):\n",
        "  s3 = s3 + (4/np.pi)*((np.sin((2*i-1)*t)/(2*i-1)))\n",
        "print(i, s3)"
      ],
      "metadata": {
        "colab": {
          "base_uri": "https://localhost:8080/"
        },
        "id": "2ErGDJkX4moz",
        "outputId": "ed427669-7873-4c3a-9a6c-50fad5449823"
      },
      "execution_count": 30,
      "outputs": [
        {
          "output_type": "stream",
          "name": "stdout",
          "text": [
            "1000 [ 0.          0.12716868  0.25264986 ... -1.69188438 -1.69202811\n",
            " -1.69219312]\n"
          ]
        }
      ]
    },
    {
      "cell_type": "markdown",
      "source": [
        "**d) 10000**"
      ],
      "metadata": {
        "id": "IVB23SXc45D1"
      }
    },
    {
      "cell_type": "code",
      "source": [
        "import numpy as np\n",
        "s4 = 0\n",
        "t = np.linspace(0,10, 100000)\n",
        "for i in range(10001):\n",
        "  s4 = s4 + (4/np.pi)*((np.sin((2*i-1)*t)/(2*i-1)))\n",
        "print(i, s4)"
      ],
      "metadata": {
        "colab": {
          "base_uri": "https://localhost:8080/"
        },
        "id": "l7LLVeh94vnX",
        "outputId": "528c5afa-6dba-4818-cc25-cc40727129a7"
      },
      "execution_count": 5,
      "outputs": [
        {
          "output_type": "stream",
          "name": "stdout",
          "text": [
            "10000 [ 0.          1.02217076  1.11955671 ... -1.6924905  -1.69259045\n",
            " -1.69261083]\n"
          ]
        }
      ]
    },
    {
      "cell_type": "code",
      "source": [
        "plt.figure(figsize=(9,7))\n",
        "plt.plot(s1, t, color='green', marker= 'o', linestyle='solid')\n",
        "plt.plot(s2, t, color='purple', marker='v', linestyle='--')\n",
        "plt.plot(s3, t, color='blue', marker='s', linestyle='dotted')\n",
        "plt.plot(s4, t, color='red', marker='*', linestyle='dashdot')\n",
        "plt.grid()\n",
        "plt.title('aproximações')\n",
        "plt.xlabel('x(t)')\n",
        "plt.ylabel('t')\n",
        "plt.show()"
      ],
      "metadata": {
        "colab": {
          "base_uri": "https://localhost:8080/",
          "height": 458
        },
        "id": "bLk18S2V_6Ei",
        "outputId": "28f42606-e62d-4530-a1ca-97bc612514ed"
      },
      "execution_count": null,
      "outputs": [
        {
          "output_type": "display_data",
          "data": {
            "text/plain": [
              "<Figure size 648x504 with 1 Axes>"
            ],
            "image/png": "[encoded data removed]"
          },
          "metadata": {
            "needs_background": "light"
          }
        }
      ]
    }
  ]
}