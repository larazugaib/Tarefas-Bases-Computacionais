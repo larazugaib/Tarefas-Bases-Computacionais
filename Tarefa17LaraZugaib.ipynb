{
  "nbformat": 4,
  "nbformat_minor": 0,
  "metadata": {
    "colab": {
      "provenance": []
    },
    "kernelspec": {
      "name": "python3",
      "display_name": "Python 3"
    },
    "language_info": {
      "name": "python"
    }
  },
  "cells": [
    {
      "cell_type": "markdown",
      "source": [
        "## 1) Faça o gráfico da Renda dos jogos do campeonato brasileiro de 2018 em função do público de cada jogo. Calcule a correlação entre essas grandezas."
      ],
      "metadata": {
        "id": "EQr4QcKGO_Lt"
      }
    },
    {
      "cell_type": "code",
      "source": [
        "import pandas as pd\n",
        "import matplotlib.pyplot as plt\n",
        "import numpy as np"
      ],
      "metadata": {
        "id": "3y4TtwXKPdNq"
      },
      "execution_count": 2,
      "outputs": []
    },
    {
      "cell_type": "code",
      "execution_count": 3,
      "metadata": {
        "id": "3bMtaDWKOekZ"
      },
      "outputs": [],
      "source": [
        "tabela = pd.read_csv('https://raw.githubusercontent.com/BMClab/BasesComputacionais/master/dados/tabelaBrasileirao2018.csv')"
      ]
    },
    {
      "cell_type": "code",
      "source": [
        "plt.figure()\n",
        "plt.plot(tabela['Público'], tabela[\"Renda (R$)\"], \"o\")\n",
        "plt.show()"
      ],
      "metadata": {
        "colab": {
          "base_uri": "https://localhost:8080/",
          "height": 276
        },
        "id": "OVJYLmmiPatJ",
        "outputId": "46b3a2a9-062f-45ef-f460-76622b2c3042"
      },
      "execution_count": 4,
      "outputs": [
        {
          "output_type": "display_data",
          "data": {
            "text/plain": [
              "<Figure size 432x288 with 1 Axes>"
            ],
            "image/png": "[encoded data removed]"
          },
          "metadata": {
            "needs_background": "light"
          }
        }
      ]
    },
    {
      "cell_type": "code",
      "source": [
        "tabela[\"Renda (R$)\"].corr(tabela['Público'])"
      ],
      "metadata": {
        "colab": {
          "base_uri": "https://localhost:8080/"
        },
        "id": "OyR9oG5mP06D",
        "outputId": "68982b13-6a1f-4f08-94df-f6f0ce0f80a7"
      },
      "execution_count": 5,
      "outputs": [
        {
          "output_type": "execute_result",
          "data": {
            "text/plain": [
              "0.8365730756690009"
            ]
          },
          "metadata": {},
          "execution_count": 5
        }
      ]
    }
  ]
}