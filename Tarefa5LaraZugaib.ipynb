{
  "nbformat": 4,
  "nbformat_minor": 0,
  "metadata": {
    "colab": {
      "provenance": []
    },
    "kernelspec": {
      "name": "python3",
      "display_name": "Python 3"
    },
    "language_info": {
      "name": "python"
    }
  },
  "cells": [
    {
      "cell_type": "markdown",
      "source": [
        "## Lara Carvalho Zugaib ##\n",
        "\n"
      ],
      "metadata": {
        "id": "PX-l0CS0e0yG"
      }
    },
    {
      "cell_type": "code",
      "source": [
        "import numpy as np"
      ],
      "metadata": {
        "id": "2xFORZLFeYu2"
      },
      "execution_count": 2,
      "outputs": []
    },
    {
      "cell_type": "code",
      "source": [
        "import matplotlib.pyplot as plt\n"
      ],
      "metadata": {
        "id": "JlHawAzpeawx"
      },
      "execution_count": 3,
      "outputs": []
    },
    {
      "cell_type": "markdown",
      "source": [
        "1) Uma bola é lançada ao ar. Suponha que sua altura h(t), em metros, t segundos após o lançamento, seja:\n",
        "\n",
        "h(t)=−t2+4t\n"
      ],
      "metadata": {
        "id": "f3EjfkT1fOKg"
      }
    },
    {
      "cell_type": "markdown",
      "source": [
        "a) Faça o gráfico da altura em função do tempo. Não se esqueça de indicar o significado de cada eixo, colocando a unidade da altura e do tempo.\n",
        "\n"
      ],
      "metadata": {
        "id": "9_wK7AdEfWNu"
      }
    },
    {
      "cell_type": "code",
      "source": [
        "t = np.arange(0,5,0.1)\n",
        "h = -t**2 + 4*t\n",
        "plt.figure()\n",
        "plt.plot(t, h, color='green', linestyle='--')\n",
        "plt.grid()\n",
        "plt.title('altura em função do tempo')\n",
        "plt.xlabel('t em segundos')\n",
        "plt.ylabel('h em metros')\n",
        "plt.show()"
      ],
      "metadata": {
        "colab": {
          "base_uri": "https://localhost:8080/",
          "height": 295
        },
        "id": "k9QyC9L0efIg",
        "outputId": "010031dc-b54d-4fc4-e1e2-c9160efd20ef"
      },
      "execution_count": 4,
      "outputs": [
        {
          "output_type": "display_data",
          "data": {
            "text/plain": [
              "<Figure size 432x288 with 1 Axes>"
            ],
            "image/png": "[encoded data removed]"
          },
          "metadata": {
            "needs_background": "light"
          }
        }
      ]
    },
    {
      "cell_type": "markdown",
      "source": [
        "b) Calcule a altura máxima atingida pela bola."
      ],
      "metadata": {
        "id": "hdytkavtfY4d"
      }
    },
    {
      "cell_type": "code",
      "source": [
        "np.max(h)\n",
        "print(f'altura máxima: {np.max(h)}')"
      ],
      "metadata": {
        "colab": {
          "base_uri": "https://localhost:8080/"
        },
        "id": "D48u0KQQeiTQ",
        "outputId": "57957e72-ca85-4a2d-810c-0793d9508072"
      },
      "execution_count": 10,
      "outputs": [
        {
          "output_type": "stream",
          "name": "stdout",
          "text": [
            "altura máxima: 4.0\n"
          ]
        }
      ]
    }
  ]
}