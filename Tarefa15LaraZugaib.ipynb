{
  "nbformat": 4,
  "nbformat_minor": 0,
  "metadata": {
    "colab": {
      "provenance": []
    },
    "kernelspec": {
      "name": "python3",
      "display_name": "Python 3"
    },
    "language_info": {
      "name": "python"
    }
  },
  "cells": [
    {
      "cell_type": "markdown",
      "source": [
        "## TAREFA 15 - LARA ZUGAIB"
      ],
      "metadata": {
        "id": "xo-veMDKuIzR"
      }
    },
    {
      "cell_type": "markdown",
      "source": [
        "1) Faça uma função que receba um número a, um número b e um número x. Esta função deve retornar True se x estiver entre a e b e False caso contrário. Além disso a função deve mostrar uma mensagem dizendo se x está no intervalo entre a e b ou não.\n",
        "\n",
        "Teste para\n",
        "\n",
        "a) a = -2.5, b = 6.3 e x = 9.1;\n",
        "\n",
        "\n",
        "b) a = -10, b = 7 e x = 2.2\n",
        "\n",
        "\n",
        "c) a = 67.2, b = 87.2 e x = 8.1"
      ],
      "metadata": {
        "id": "JQAHoW_wuONx"
      }
    },
    {
      "cell_type": "code",
      "execution_count": 1,
      "metadata": {
        "id": "ZPtlw0QnuE5I"
      },
      "outputs": [],
      "source": [
        "def função(a,b,x):\n",
        "  if a < x < b:\n",
        "    x = True\n",
        "    print('x está no intervalo entre a e b')\n",
        "  else:\n",
        "    x = False\n",
        "    print('x não está no intervalo entre a e b')\n",
        "  return x"
      ]
    },
    {
      "cell_type": "markdown",
      "source": [
        "a) a = -2.5, b = 6.3 e x = 9.1"
      ],
      "metadata": {
        "id": "xPzeTk3UuU54"
      }
    },
    {
      "cell_type": "code",
      "source": [
        "função(-2.5, 6.3, 9.1)"
      ],
      "metadata": {
        "colab": {
          "base_uri": "https://localhost:8080/"
        },
        "id": "GgE9zXrTuR5j",
        "outputId": "f51a8b08-9ca7-4513-f562-24ba9dac102d"
      },
      "execution_count": 2,
      "outputs": [
        {
          "output_type": "stream",
          "name": "stdout",
          "text": [
            "x não está no intervalo entre a e b\n"
          ]
        },
        {
          "output_type": "execute_result",
          "data": {
            "text/plain": [
              "False"
            ]
          },
          "metadata": {},
          "execution_count": 2
        }
      ]
    },
    {
      "cell_type": "markdown",
      "source": [
        "b) a = -10, b = 7 e x = 2.2"
      ],
      "metadata": {
        "id": "PFYmpyl0uaoH"
      }
    },
    {
      "cell_type": "code",
      "source": [
        "função(-10, 7, 2.2)"
      ],
      "metadata": {
        "colab": {
          "base_uri": "https://localhost:8080/"
        },
        "id": "CuPxbssJuZp6",
        "outputId": "7169e0e6-2e31-44e3-dfd1-0f56d5f5a494"
      },
      "execution_count": 3,
      "outputs": [
        {
          "output_type": "stream",
          "name": "stdout",
          "text": [
            "x está no intervalo entre a e b\n"
          ]
        },
        {
          "output_type": "execute_result",
          "data": {
            "text/plain": [
              "True"
            ]
          },
          "metadata": {},
          "execution_count": 3
        }
      ]
    },
    {
      "cell_type": "markdown",
      "source": [
        "c) a = 67.2, b = 87.2 e x = 8.1"
      ],
      "metadata": {
        "id": "elxS_2oxufoP"
      }
    },
    {
      "cell_type": "code",
      "source": [
        "função(67.2, 87.2, 8.1)"
      ],
      "metadata": {
        "colab": {
          "base_uri": "https://localhost:8080/"
        },
        "id": "Y-WbYqwvue2i",
        "outputId": "cc49819c-2d95-4cf4-b701-d7d1b6ec21a7"
      },
      "execution_count": 4,
      "outputs": [
        {
          "output_type": "stream",
          "name": "stdout",
          "text": [
            "x não está no intervalo entre a e b\n"
          ]
        },
        {
          "output_type": "execute_result",
          "data": {
            "text/plain": [
              "False"
            ]
          },
          "metadata": {},
          "execution_count": 4
        }
      ]
    }
  ]
}