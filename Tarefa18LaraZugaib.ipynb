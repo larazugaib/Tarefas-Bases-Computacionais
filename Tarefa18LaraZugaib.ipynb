{
  "nbformat": 4,
  "nbformat_minor": 0,
  "metadata": {
    "colab": {
      "provenance": []
    },
    "kernelspec": {
      "name": "python3",
      "display_name": "Python 3"
    },
    "language_info": {
      "name": "python"
    }
  },
  "cells": [
    {
      "cell_type": "markdown",
      "source": [
        "## TAREFA 18 - LARA ZUGAIB"
      ],
      "metadata": {
        "id": "vqqBn7dCLwe0"
      }
    },
    {
      "cell_type": "markdown",
      "source": [
        "## 1) Para essa tarefa você deverá usar o arquivo com vários dados pessoais de sujeitos que participaram de um experimento.\n",
        "\n",
        "Faça o gráfico de dispersão do tamanho do pé (FootLen) em função da altura da pessoa (Height). Calcule (e mostre na tela) a correlação e plote a reta de regressão entre esses dados.\n",
        "\n",
        "Dica: esse arquivo separa as suas colunas com uma tabulação. Para ler o arquivo a opção 'sep' deve ser '\\t'."
      ],
      "metadata": {
        "id": "oIDx_gjnLt9u"
      }
    },
    {
      "cell_type": "code",
      "source": [
        "import numpy as np\n",
        "import matplotlib as plt\n",
        "import pandas as pd"
      ],
      "metadata": {
        "id": "QcrmDe2RLvmZ"
      },
      "execution_count": 1,
      "outputs": []
    },
    {
      "cell_type": "code",
      "source": [
        "info_postura = pd.read_csv('https://raw.githubusercontent.com/BMClab/BasesComputacionais/master/dados/BDSinfo.csv', sep= '\\t')"
      ],
      "metadata": {
        "id": "MCsvIm6-PXIs"
      },
      "execution_count": 6,
      "outputs": []
    },
    {
      "cell_type": "code",
      "source": [
        "from numpy.lib.utils import info\n",
        "x = info_postura['Height']\n",
        "y = info_postura['FootLen']\n",
        "mest = np.sum((x-np.mean(x))*(y-np.mean(y)))/np.sum((x-np.mean(x))**2)\n",
        "best = np.mean(y)- mest* np.mean(x)\n",
        "print(mest, best)"
      ],
      "metadata": {
        "colab": {
          "base_uri": "https://localhost:8080/"
        },
        "id": "vKFmDvOIPdhA",
        "outputId": "9fa528d4-120a-485e-9f1f-f98c171533b9"
      },
      "execution_count": 7,
      "outputs": [
        {
          "output_type": "stream",
          "name": "stdout",
          "text": [
            "0.1151612344184846 4.278276425427784\n"
          ]
        }
      ]
    },
    {
      "cell_type": "code",
      "source": [
        "import matplotlib.pyplot as plt\n",
        "\n",
        "plt.figure()\n",
        "plt.plot(info_postura['Height'], info_postura['FootLen'], 'o', color = 'red')\n",
        "plt.plot(x, mest*x+best, 'g')\n",
        "plt.show()"
      ],
      "metadata": {
        "colab": {
          "base_uri": "https://localhost:8080/",
          "height": 265
        },
        "id": "gB4zBz-9Qvyv",
        "outputId": "d65d682f-0d42-4e5a-cd90-90f7247968b5"
      },
      "execution_count": 9,
      "outputs": [
        {
          "output_type": "display_data",
          "data": {
            "text/plain": [
              "<Figure size 432x288 with 1 Axes>"
            ],
            "image/png": "[encoded data removed]"
          },
          "metadata": {
            "needs_background": "light"
          }
        }
      ]
    },
    {
      "cell_type": "markdown",
      "source": [
        "## 2) Para essa tarefa você deverá usar os arquivos com a inflação anual e com o crescimento do PIB anual.\n",
        "\n",
        "Faça o gráfico de dispersão entre o crescimento do PIB e a inflação anual de 1961 a 2018. Calcule e mostre na tela a correlação entre as duas grandezas."
      ],
      "metadata": {
        "id": "Ch6J-jq0RXVI"
      }
    },
    {
      "cell_type": "code",
      "source": [
        "inflacao = pd.read_csv('https://raw.githubusercontent.com/BMClab/BasesComputacionais/master/dados/inflaAnual.csv')"
      ],
      "metadata": {
        "id": "7qd0C22_REfK"
      },
      "execution_count": 10,
      "outputs": []
    },
    {
      "cell_type": "code",
      "source": [
        "PIB = pd.read_csv('https://raw.githubusercontent.com/BMClab/BasesComputacionais/master/dados/pibAnual.csv')"
      ],
      "metadata": {
        "id": "nnod2KwJTgZs"
      },
      "execution_count": 11,
      "outputs": []
    },
    {
      "cell_type": "code",
      "source": [
        "ano_PIB = PIB.query('1961 <= Ano <= 2018').reset_index(drop=True)"
      ],
      "metadata": {
        "id": "c-___qCgTnOc"
      },
      "execution_count": 12,
      "outputs": []
    },
    {
      "cell_type": "code",
      "source": [
        "ano_inflacao = inflacao.query('1961 <= Ano <= 2018').reset_index(drop=True)"
      ],
      "metadata": {
        "id": "4hvJym2qT0oj"
      },
      "execution_count": 15,
      "outputs": []
    },
    {
      "cell_type": "code",
      "source": [
        "ano_inflacao['PIB'] = ano_PIB ['Variação anual do PIB real (%)']\n",
        "ano_inflacao"
      ],
      "metadata": {
        "colab": {
          "base_uri": "https://localhost:8080/",
          "height": 1000
        },
        "id": "0VIFR_BBUF9Z",
        "outputId": "53b3c2c5-5d1a-4daa-b5ba-7742937e21f9"
      },
      "execution_count": 17,
      "outputs": [
        {
          "output_type": "execute_result",
          "data": {
            "text/plain": [
              "     Ano     Inflação    PIB\n",
              "0   1961    47.794513  10.28\n",
              "1   1962    51.597152   5.22\n",
              "2   1963    79.907687   0.88\n",
              "3   1964    93.365975   3.49\n",
              "4   1965    34.221694   3.05\n",
              "5   1966    38.733949   4.15\n",
              "6   1967    24.857373   4.92\n",
              "7   1968    25.171983  11.43\n",
              "8   1969    19.313401   9.74\n",
              "9   1970    19.267225   8.77\n",
              "10  1971    19.478958  11.30\n",
              "11  1972    15.734241  12.05\n",
              "12  1973    15.534378  13.98\n",
              "13  1974    34.555989   9.04\n",
              "14  1975    29.327596   5.21\n",
              "15  1976    46.273378   9.79\n",
              "16  1977    38.789568   4.61\n",
              "17  1978    40.805253   3.23\n",
              "18  1979    77.244968   6.77\n",
              "19  1980   110.229850   9.11\n",
              "20  1981    95.198164  -4.39\n",
              "21  1982    99.726207   0.58\n",
              "22  1983   211.020010  -3.41\n",
              "23  1984   223.808959   5.27\n",
              "24  1985   235.127905   7.95\n",
              "25  1986    65.042751   7.99\n",
              "26  1987   415.954710   3.60\n",
              "27  1988  1037.525771  -0.10\n",
              "28  1989  1782.852284   3.28\n",
              "29  1990  1476.708922  -3.10\n",
              "30  1991   480.226252   1.51\n",
              "31  1992  1157.836287  -0.47\n",
              "32  1993  2708.169462   4.67\n",
              "33  1994  1093.854289   5.33\n",
              "34  1995    14.773755   4.42\n",
              "35  1996     9.326444   2.21\n",
              "36  1997     7.484145   3.40\n",
              "37  1998     1.927414   0.34\n",
              "38  1999    19.988245   0.47\n",
              "39  2000     9.800694   4.11\n",
              "40  2001    10.402226   1.39\n",
              "41  2002    26.411848   3.05\n",
              "42  2003     7.663029   1.14\n",
              "43  2004    12.130330   5.76\n",
              "44  2005     1.232127   3.20\n",
              "45  2006     3.797263   3.96\n",
              "46  2007     7.898405   6.07\n",
              "47  2008     9.107305   5.09\n",
              "48  2009    -1.436402  -0.13\n",
              "49  2010    11.305793   7.53\n",
              "50  2011     5.012536   3.97\n",
              "51  2012     8.112066   1.92\n",
              "52  2013     5.527758   3.00\n",
              "53  2014     3.779997   0.50\n",
              "54  2015    10.678607  -3.55\n",
              "55  2016     7.153319  -3.30\n",
              "56  2017    -0.423071   1.06\n",
              "57  2018     7.102062   1.12"
            ],
            "text/html": [
              "\n",
              "  <div id=\"df-f30233a9-79a8-4c04-a096-50321ce84679\">\n",
              "    <div class=\"colab-df-container\">\n",
              "      <div>\n",
              "<style scoped>\n",
              "    .dataframe tbody tr th:only-of-type {\n",
              "        vertical-align: middle;\n",
              "    }\n",
              "\n",
              "    .dataframe tbody tr th {\n",
              "        vertical-align: top;\n",
              "    }\n",
              "\n",
              "    .dataframe thead th {\n",
              "        text-align: right;\n",
              "    }\n",
              "</style>\n",
              "<table border=\"1\" class=\"dataframe\">\n",
              "  <thead>\n",
              "    <tr style=\"text-align: right;\">\n",
              "      <th></th>\n",
              "      <th>Ano</th>\n",
              "      <th>Inflação</th>\n",
              "      <th>PIB</th>\n",
              "    </tr>\n",
              "  </thead>\n",
              "  <tbody>\n",
              "    <tr>\n",
              "      <th>0</th>\n",
              "      <td>1961</td>\n",
              "      <td>47.794513</td>\n",
              "      <td>10.28</td>\n",
              "    </tr>\n",
              "    <tr>\n",
              "      <th>1</th>\n",
              "      <td>1962</td>\n",
              "      <td>51.597152</td>\n",
              "      <td>5.22</td>\n",
              "    </tr>\n",
              "    <tr>\n",
              "      <th>2</th>\n",
              "      <td>1963</td>\n",
              "      <td>79.907687</td>\n",
              "      <td>0.88</td>\n",
              "    </tr>\n",
              "    <tr>\n",
              "      <th>3</th>\n",
              "      <td>1964</td>\n",
              "      <td>93.365975</td>\n",
              "      <td>3.49</td>\n",
              "    </tr>\n",
              "    <tr>\n",
              "      <th>4</th>\n",
              "      <td>1965</td>\n",
              "      <td>34.221694</td>\n",
              "      <td>3.05</td>\n",
              "    </tr>\n",
              "    <tr>\n",
              "      <th>5</th>\n",
              "      <td>1966</td>\n",
              "      <td>38.733949</td>\n",
              "      <td>4.15</td>\n",
              "    </tr>\n",
              "    <tr>\n",
              "      <th>6</th>\n",
              "      <td>1967</td>\n",
              "      <td>24.857373</td>\n",
              "      <td>4.92</td>\n",
              "    </tr>\n",
              "    <tr>\n",
              "      <th>7</th>\n",
              "      <td>1968</td>\n",
              "      <td>25.171983</td>\n",
              "      <td>11.43</td>\n",
              "    </tr>\n",
              "    <tr>\n",
              "      <th>8</th>\n",
              "      <td>1969</td>\n",
              "      <td>19.313401</td>\n",
              "      <td>9.74</td>\n",
              "    </tr>\n",
              "    <tr>\n",
              "      <th>9</th>\n",
              "      <td>1970</td>\n",
              "      <td>19.267225</td>\n",
              "      <td>8.77</td>\n",
              "    </tr>\n",
              "    <tr>\n",
              "      <th>10</th>\n",
              "      <td>1971</td>\n",
              "      <td>19.478958</td>\n",
              "      <td>11.30</td>\n",
              "    </tr>\n",
              "    <tr>\n",
              "      <th>11</th>\n",
              "      <td>1972</td>\n",
              "      <td>15.734241</td>\n",
              "      <td>12.05</td>\n",
              "    </tr>\n",
              "    <tr>\n",
              "      <th>12</th>\n",
              "      <td>1973</td>\n",
              "      <td>15.534378</td>\n",
              "      <td>13.98</td>\n",
              "    </tr>\n",
              "    <tr>\n",
              "      <th>13</th>\n",
              "      <td>1974</td>\n",
              "      <td>34.555989</td>\n",
              "      <td>9.04</td>\n",
              "    </tr>\n",
              "    <tr>\n",
              "      <th>14</th>\n",
              "      <td>1975</td>\n",
              "      <td>29.327596</td>\n",
              "      <td>5.21</td>\n",
              "    </tr>\n",
              "    <tr>\n",
              "      <th>15</th>\n",
              "      <td>1976</td>\n",
              "      <td>46.273378</td>\n",
              "      <td>9.79</td>\n",
              "    </tr>\n",
              "    <tr>\n",
              "      <th>16</th>\n",
              "      <td>1977</td>\n",
              "      <td>38.789568</td>\n",
              "      <td>4.61</td>\n",
              "    </tr>\n",
              "    <tr>\n",
              "      <th>17</th>\n",
              "      <td>1978</td>\n",
              "      <td>40.805253</td>\n",
              "      <td>3.23</td>\n",
              "    </tr>\n",
              "    <tr>\n",
              "      <th>18</th>\n",
              "      <td>1979</td>\n",
              "      <td>77.244968</td>\n",
              "      <td>6.77</td>\n",
              "    </tr>\n",
              "    <tr>\n",
              "      <th>19</th>\n",
              "      <td>1980</td>\n",
              "      <td>110.229850</td>\n",
              "      <td>9.11</td>\n",
              "    </tr>\n",
              "    <tr>\n",
              "      <th>20</th>\n",
              "      <td>1981</td>\n",
              "      <td>95.198164</td>\n",
              "      <td>-4.39</td>\n",
              "    </tr>\n",
              "    <tr>\n",
              "      <th>21</th>\n",
              "      <td>1982</td>\n",
              "      <td>99.726207</td>\n",
              "      <td>0.58</td>\n",
              "    </tr>\n",
              "    <tr>\n",
              "      <th>22</th>\n",
              "      <td>1983</td>\n",
              "      <td>211.020010</td>\n",
              "      <td>-3.41</td>\n",
              "    </tr>\n",
              "    <tr>\n",
              "      <th>23</th>\n",
              "      <td>1984</td>\n",
              "      <td>223.808959</td>\n",
              "      <td>5.27</td>\n",
              "    </tr>\n",
              "    <tr>\n",
              "      <th>24</th>\n",
              "      <td>1985</td>\n",
              "      <td>235.127905</td>\n",
              "      <td>7.95</td>\n",
              "    </tr>\n",
              "    <tr>\n",
              "      <th>25</th>\n",
              "      <td>1986</td>\n",
              "      <td>65.042751</td>\n",
              "      <td>7.99</td>\n",
              "    </tr>\n",
              "    <tr>\n",
              "      <th>26</th>\n",
              "      <td>1987</td>\n",
              "      <td>415.954710</td>\n",
              "      <td>3.60</td>\n",
              "    </tr>\n",
              "    <tr>\n",
              "      <th>27</th>\n",
              "      <td>1988</td>\n",
              "      <td>1037.525771</td>\n",
              "      <td>-0.10</td>\n",
              "    </tr>\n",
              "    <tr>\n",
              "      <th>28</th>\n",
              "      <td>1989</td>\n",
              "      <td>1782.852284</td>\n",
              "      <td>3.28</td>\n",
              "    </tr>\n",
              "    <tr>\n",
              "      <th>29</th>\n",
              "      <td>1990</td>\n",
              "      <td>1476.708922</td>\n",
              "      <td>-3.10</td>\n",
              "    </tr>\n",
              "    <tr>\n",
              "      <th>30</th>\n",
              "      <td>1991</td>\n",
              "      <td>480.226252</td>\n",
              "      <td>1.51</td>\n",
              "    </tr>\n",
              "    <tr>\n",
              "      <th>31</th>\n",
              "      <td>1992</td>\n",
              "      <td>1157.836287</td>\n",
              "      <td>-0.47</td>\n",
              "    </tr>\n",
              "    <tr>\n",
              "      <th>32</th>\n",
              "      <td>1993</td>\n",
              "      <td>2708.169462</td>\n",
              "      <td>4.67</td>\n",
              "    </tr>\n",
              "    <tr>\n",
              "      <th>33</th>\n",
              "      <td>1994</td>\n",
              "      <td>1093.854289</td>\n",
              "      <td>5.33</td>\n",
              "    </tr>\n",
              "    <tr>\n",
              "      <th>34</th>\n",
              "      <td>1995</td>\n",
              "      <td>14.773755</td>\n",
              "      <td>4.42</td>\n",
              "    </tr>\n",
              "    <tr>\n",
              "      <th>35</th>\n",
              "      <td>1996</td>\n",
              "      <td>9.326444</td>\n",
              "      <td>2.21</td>\n",
              "    </tr>\n",
              "    <tr>\n",
              "      <th>36</th>\n",
              "      <td>1997</td>\n",
              "      <td>7.484145</td>\n",
              "      <td>3.40</td>\n",
              "    </tr>\n",
              "    <tr>\n",
              "      <th>37</th>\n",
              "      <td>1998</td>\n",
              "      <td>1.927414</td>\n",
              "      <td>0.34</td>\n",
              "    </tr>\n",
              "    <tr>\n",
              "      <th>38</th>\n",
              "      <td>1999</td>\n",
              "      <td>19.988245</td>\n",
              "      <td>0.47</td>\n",
              "    </tr>\n",
              "    <tr>\n",
              "      <th>39</th>\n",
              "      <td>2000</td>\n",
              "      <td>9.800694</td>\n",
              "      <td>4.11</td>\n",
              "    </tr>\n",
              "    <tr>\n",
              "      <th>40</th>\n",
              "      <td>2001</td>\n",
              "      <td>10.402226</td>\n",
              "      <td>1.39</td>\n",
              "    </tr>\n",
              "    <tr>\n",
              "      <th>41</th>\n",
              "      <td>2002</td>\n",
              "      <td>26.411848</td>\n",
              "      <td>3.05</td>\n",
              "    </tr>\n",
              "    <tr>\n",
              "      <th>42</th>\n",
              "      <td>2003</td>\n",
              "      <td>7.663029</td>\n",
              "      <td>1.14</td>\n",
              "    </tr>\n",
              "    <tr>\n",
              "      <th>43</th>\n",
              "      <td>2004</td>\n",
              "      <td>12.130330</td>\n",
              "      <td>5.76</td>\n",
              "    </tr>\n",
              "    <tr>\n",
              "      <th>44</th>\n",
              "      <td>2005</td>\n",
              "      <td>1.232127</td>\n",
              "      <td>3.20</td>\n",
              "    </tr>\n",
              "    <tr>\n",
              "      <th>45</th>\n",
              "      <td>2006</td>\n",
              "      <td>3.797263</td>\n",
              "      <td>3.96</td>\n",
              "    </tr>\n",
              "    <tr>\n",
              "      <th>46</th>\n",
              "      <td>2007</td>\n",
              "      <td>7.898405</td>\n",
              "      <td>6.07</td>\n",
              "    </tr>\n",
              "    <tr>\n",
              "      <th>47</th>\n",
              "      <td>2008</td>\n",
              "      <td>9.107305</td>\n",
              "      <td>5.09</td>\n",
              "    </tr>\n",
              "    <tr>\n",
              "      <th>48</th>\n",
              "      <td>2009</td>\n",
              "      <td>-1.436402</td>\n",
              "      <td>-0.13</td>\n",
              "    </tr>\n",
              "    <tr>\n",
              "      <th>49</th>\n",
              "      <td>2010</td>\n",
              "      <td>11.305793</td>\n",
              "      <td>7.53</td>\n",
              "    </tr>\n",
              "    <tr>\n",
              "      <th>50</th>\n",
              "      <td>2011</td>\n",
              "      <td>5.012536</td>\n",
              "      <td>3.97</td>\n",
              "    </tr>\n",
              "    <tr>\n",
              "      <th>51</th>\n",
              "      <td>2012</td>\n",
              "      <td>8.112066</td>\n",
              "      <td>1.92</td>\n",
              "    </tr>\n",
              "    <tr>\n",
              "      <th>52</th>\n",
              "      <td>2013</td>\n",
              "      <td>5.527758</td>\n",
              "      <td>3.00</td>\n",
              "    </tr>\n",
              "    <tr>\n",
              "      <th>53</th>\n",
              "      <td>2014</td>\n",
              "      <td>3.779997</td>\n",
              "      <td>0.50</td>\n",
              "    </tr>\n",
              "    <tr>\n",
              "      <th>54</th>\n",
              "      <td>2015</td>\n",
              "      <td>10.678607</td>\n",
              "      <td>-3.55</td>\n",
              "    </tr>\n",
              "    <tr>\n",
              "      <th>55</th>\n",
              "      <td>2016</td>\n",
              "      <td>7.153319</td>\n",
              "      <td>-3.30</td>\n",
              "    </tr>\n",
              "    <tr>\n",
              "      <th>56</th>\n",
              "      <td>2017</td>\n",
              "      <td>-0.423071</td>\n",
              "      <td>1.06</td>\n",
              "    </tr>\n",
              "    <tr>\n",
              "      <th>57</th>\n",
              "      <td>2018</td>\n",
              "      <td>7.102062</td>\n",
              "      <td>1.12</td>\n",
              "    </tr>\n",
              "  </tbody>\n",
              "</table>\n",
              "</div>\n",
              "      <button class=\"colab-df-convert\" onclick=\"convertToInteractive('df-f30233a9-79a8-4c04-a096-50321ce84679')\"\n",
              "              title=\"Convert this dataframe to an interactive table.\"\n",
              "              style=\"display:none;\">\n",
              "        \n",
              "  <svg xmlns=\"http://www.w3.org/2000/svg\" height=\"24px\"viewBox=\"0 0 24 24\"\n",
              "       width=\"24px\">\n",
              "    <path d=\"M0 0h24v24H0V0z\" fill=\"none\"/>\n",
              "    <path d=\"M18.56 5.44l.94 2.06.94-2.06 2.06-.94-2.06-.94-.94-2.06-.94 2.06-2.06.94zm-11 1L8.5 8.5l.94-2.06 2.06-.94-2.06-.94L8.5 2.5l-.94 2.06-2.06.94zm10 10l.94 2.06.94-2.06 2.06-.94-2.06-.94-.94-2.06-.94 2.06-2.06.94z\"/><path d=\"M17.41 7.96l-1.37-1.37c-.4-.4-.92-.59-1.43-.59-.52 0-1.04.2-1.43.59L10.3 9.45l-7.72 7.72c-.78.78-.78 2.05 0 2.83L4 21.41c.39.39.9.59 1.41.59.51 0 1.02-.2 1.41-.59l7.78-7.78 2.81-2.81c.8-.78.8-2.07 0-2.86zM5.41 20L4 18.59l7.72-7.72 1.47 1.35L5.41 20z\"/>\n",
              "  </svg>\n",
              "      </button>\n",
              "      \n",
              "  <style>\n",
              "    .colab-df-container {\n",
              "      display:flex;\n",
              "      flex-wrap:wrap;\n",
              "      gap: 12px;\n",
              "    }\n",
              "\n",
              "    .colab-df-convert {\n",
              "      background-color: #E8F0FE;\n",
              "      border: none;\n",
              "      border-radius: 50%;\n",
              "      cursor: pointer;\n",
              "      display: none;\n",
              "      fill: #1967D2;\n",
              "      height: 32px;\n",
              "      padding: 0 0 0 0;\n",
              "      width: 32px;\n",
              "    }\n",
              "\n",
              "    .colab-df-convert:hover {\n",
              "      background-color: #E2EBFA;\n",
              "      box-shadow: 0px 1px 2px rgba(60, 64, 67, 0.3), 0px 1px 3px 1px rgba(60, 64, 67, 0.15);\n",
              "      fill: #174EA6;\n",
              "    }\n",
              "\n",
              "    [theme=dark] .colab-df-convert {\n",
              "      background-color: #3B4455;\n",
              "      fill: #D2E3FC;\n",
              "    }\n",
              "\n",
              "    [theme=dark] .colab-df-convert:hover {\n",
              "      background-color: #434B5C;\n",
              "      box-shadow: 0px 1px 3px 1px rgba(0, 0, 0, 0.15);\n",
              "      filter: drop-shadow(0px 1px 2px rgba(0, 0, 0, 0.3));\n",
              "      fill: #FFFFFF;\n",
              "    }\n",
              "  </style>\n",
              "\n",
              "      <script>\n",
              "        const buttonEl =\n",
              "          document.querySelector('#df-f30233a9-79a8-4c04-a096-50321ce84679 button.colab-df-convert');\n",
              "        buttonEl.style.display =\n",
              "          google.colab.kernel.accessAllowed ? 'block' : 'none';\n",
              "\n",
              "        async function convertToInteractive(key) {\n",
              "          const element = document.querySelector('#df-f30233a9-79a8-4c04-a096-50321ce84679');\n",
              "          const dataTable =\n",
              "            await google.colab.kernel.invokeFunction('convertToInteractive',\n",
              "                                                     [key], {});\n",
              "          if (!dataTable) return;\n",
              "\n",
              "          const docLinkHtml = 'Like what you see? Visit the ' +\n",
              "            '<a target=\"_blank\" href=https://colab.research.google.com/notebooks/data_table.ipynb>data table notebook</a>'\n",
              "            + ' to learn more about interactive tables.';\n",
              "          element.innerHTML = '';\n",
              "          dataTable['output_type'] = 'display_data';\n",
              "          await google.colab.output.renderOutput(dataTable, element);\n",
              "          const docLink = document.createElement('div');\n",
              "          docLink.innerHTML = docLinkHtml;\n",
              "          element.appendChild(docLink);\n",
              "        }\n",
              "      </script>\n",
              "    </div>\n",
              "  </div>\n",
              "  "
            ]
          },
          "metadata": {},
          "execution_count": 17
        }
      ]
    },
    {
      "cell_type": "markdown",
      "source": [
        "## 3) Para essa tarefa você deverá usar o arquivo com vários dados pessoais de sujeitos que participaram de um experimento.\n",
        "\n",
        "Faça o gráfico de dispersão do número de medicamentos que a pessoa toma (Nmedication) em função da idade da pessoa (Age). Calcule (e mostre na tela) a correlação e plote a reta de regressão entre esses dados.\n",
        "\n",
        "Dica: esse arquivo separa as suas colunas com uma tabulação. Para ler o arquivo a opção 'sep' deve ser '\\t'."
      ],
      "metadata": {
        "id": "5Sqi3sCIUYGE"
      }
    },
    {
      "cell_type": "code",
      "source": [
        "import pandas as pd\n",
        "\n",
        "sujeitos = pd.read_csv('https://raw.githubusercontent.com/BMClab/BasesComputacionais/master/dados/BDSinfo.csv', sep= '\\t')"
      ],
      "metadata": {
        "id": "3sChWrw9UPdF"
      },
      "execution_count": 28,
      "outputs": []
    },
    {
      "cell_type": "code",
      "source": [
        "import numpy as np\n",
        "x = sujeitos['Age']\n",
        "y = sujeitos['Nmedication']\n",
        "m = np.sum((x-np.mean(x))*(y-np.mean(y)))/np.sum((x-np.mean(x))**2)\n",
        "b = np.mean(y)-m*np.mean(x)\n",
        "print(m,b)"
      ],
      "metadata": {
        "colab": {
          "base_uri": "https://localhost:8080/"
        },
        "id": "owFkM2zeUxjO",
        "outputId": "4c2a7583-b32f-4f18-89e3-08718791e842"
      },
      "execution_count": 34,
      "outputs": [
        {
          "output_type": "stream",
          "name": "stdout",
          "text": [
            "0.039093673682813426 -0.46650738789289736\n"
          ]
        }
      ]
    },
    {
      "cell_type": "code",
      "source": [
        "np.polyfit(sujeitos['Age'], sujeitos['Nmedication'], deg=1)"
      ],
      "metadata": {
        "colab": {
          "base_uri": "https://localhost:8080/"
        },
        "id": "r5TKUk7DWDLN",
        "outputId": "93b1ae71-d359-4162-874a-4ee66cd4eadd"
      },
      "execution_count": 35,
      "outputs": [
        {
          "output_type": "execute_result",
          "data": {
            "text/plain": [
              "array([ 0.03909367, -0.46650739])"
            ]
          },
          "metadata": {},
          "execution_count": 35
        }
      ]
    },
    {
      "cell_type": "code",
      "source": [
        "plt.figure()\n",
        "plt.plot(sujeitos['Age'], sujeitos['Nmedication'], 'o', color = 'red')\n",
        "plt.plot(x, m*x+b, 'green')\n",
        "plt.show()"
      ],
      "metadata": {
        "colab": {
          "base_uri": "https://localhost:8080/",
          "height": 265
        },
        "id": "oxWABuFbWtw4",
        "outputId": "07987b66-8474-4219-b73d-5a6d94b4cada"
      },
      "execution_count": 36,
      "outputs": [
        {
          "output_type": "display_data",
          "data": {
            "text/plain": [
              "<Figure size 432x288 with 1 Axes>"
            ],
            "image/png": "[encoded data removed]"
          },
          "metadata": {
            "needs_background": "light"
          }
        }
      ]
    }
  ]
}