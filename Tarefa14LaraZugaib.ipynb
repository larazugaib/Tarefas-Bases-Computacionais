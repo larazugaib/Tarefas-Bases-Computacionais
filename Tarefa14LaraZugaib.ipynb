{
  "nbformat": 4,
  "nbformat_minor": 0,
  "metadata": {
    "colab": {
      "provenance": []
    },
    "kernelspec": {
      "name": "python3",
      "display_name": "Python 3"
    },
    "language_info": {
      "name": "python"
    }
  },
  "cells": [
    {
      "cell_type": "markdown",
      "source": [
        "## TAREFA 14 - LARA ZUGAIB"
      ],
      "metadata": {
        "id": "mXYe7F1FKsXy"
      }
    },
    {
      "cell_type": "code",
      "execution_count": null,
      "metadata": {
        "id": "8ZGLafWZJ-FS"
      },
      "outputs": [],
      "source": [
        "import pandas as pd\n",
        "import numpy as np\n",
        "import matplotlib.pyplot as plt"
      ]
    },
    {
      "cell_type": "markdown",
      "source": [
        "1) Para este item você deverá usar o arquivo com dados de força e torque medidos no chão enquanto uma pessoa tenta ficar em pé durante um minuto.\n",
        "\n",
        "Faça o gráfico do torque na direção y (My [Nm]) em função do tempo (Time [s]).\n",
        "\n",
        "Mostre na tela a média e o desvio-padrão do torque na direção y."
      ],
      "metadata": {
        "id": "grMT8JTcQlnq"
      }
    },
    {
      "cell_type": "code",
      "source": [
        "dados = pd.read_csv('https://raw.githubusercontent.com/BMClab/BasesComputacionais/master/dados/balance.csv')\n",
        "dados"
      ],
      "metadata": {
        "colab": {
          "base_uri": "https://localhost:8080/",
          "height": 424
        },
        "id": "ADkd400gKrpj",
        "outputId": "cdad7bff-6385-402b-fec3-f0a02d588a3c"
      },
      "execution_count": null,
      "outputs": [
        {
          "output_type": "execute_result",
          "data": {
            "text/plain": [
              "      Time[s]     Fx[N]     Fy[N]       Fz[N]    Mx[Nm]     My[Nm]    Mz[Nm]  \\\n",
              "0        0.01 -1.919034 -4.571088  535.434951  3.162207  39.573486 -0.730428   \n",
              "1        0.02 -1.879878 -4.460744  535.388657  3.188683  39.489794 -0.736319   \n",
              "2        0.03 -1.826901 -4.361212  535.357865  3.216085  39.405791 -0.742518   \n",
              "3        0.04 -1.751454 -4.280243  535.344141  3.244572  39.321156 -0.749198   \n",
              "4        0.05 -1.653044 -4.221079  535.333173  3.273691  39.235670 -0.756347   \n",
              "...       ...       ...       ...         ...       ...        ...       ...   \n",
              "5995    59.96 -1.686699 -4.448812  535.606790  1.560903  40.358188 -0.761125   \n",
              "5996    59.97 -1.708597 -4.460978  535.688024  1.571501  40.322492 -0.759395   \n",
              "5997    59.98 -1.721913 -4.473796  535.776049  1.593658  40.284017 -0.760723   \n",
              "5998    59.99 -1.728616 -4.485147  535.871916  1.625330  40.243219 -0.764808   \n",
              "5999    60.00 -1.731940 -4.494739  535.973441  1.662295  40.201142 -0.770525   \n",
              "\n",
              "      COPx[cm]  COPy[cm]  \n",
              "0    -7.390905  0.590587  \n",
              "1    -7.375912  0.595583  \n",
              "2    -7.360645  0.600736  \n",
              "3    -7.345024  0.606072  \n",
              "4    -7.329206  0.611524  \n",
              "...        ...       ...  \n",
              "5995 -7.535040  0.291427  \n",
              "5996 -7.527234  0.293361  \n",
              "5997 -7.518816  0.297449  \n",
              "5998 -7.509858  0.303306  \n",
              "5999 -7.500585  0.310145  \n",
              "\n",
              "[6000 rows x 9 columns]"
            ],
            "text/html": [
              "\n",
              "  <div id=\"df-d954bbe2-329e-4b1e-864a-ed82de9765be\">\n",
              "    <div class=\"colab-df-container\">\n",
              "      <div>\n",
              "<style scoped>\n",
              "    .dataframe tbody tr th:only-of-type {\n",
              "        vertical-align: middle;\n",
              "    }\n",
              "\n",
              "    .dataframe tbody tr th {\n",
              "        vertical-align: top;\n",
              "    }\n",
              "\n",
              "    .dataframe thead th {\n",
              "        text-align: right;\n",
              "    }\n",
              "</style>\n",
              "<table border=\"1\" class=\"dataframe\">\n",
              "  <thead>\n",
              "    <tr style=\"text-align: right;\">\n",
              "      <th></th>\n",
              "      <th>Time[s]</th>\n",
              "      <th>Fx[N]</th>\n",
              "      <th>Fy[N]</th>\n",
              "      <th>Fz[N]</th>\n",
              "      <th>Mx[Nm]</th>\n",
              "      <th>My[Nm]</th>\n",
              "      <th>Mz[Nm]</th>\n",
              "      <th>COPx[cm]</th>\n",
              "      <th>COPy[cm]</th>\n",
              "    </tr>\n",
              "  </thead>\n",
              "  <tbody>\n",
              "    <tr>\n",
              "      <th>0</th>\n",
              "      <td>0.01</td>\n",
              "      <td>-1.919034</td>\n",
              "      <td>-4.571088</td>\n",
              "      <td>535.434951</td>\n",
              "      <td>3.162207</td>\n",
              "      <td>39.573486</td>\n",
              "      <td>-0.730428</td>\n",
              "      <td>-7.390905</td>\n",
              "      <td>0.590587</td>\n",
              "    </tr>\n",
              "    <tr>\n",
              "      <th>1</th>\n",
              "      <td>0.02</td>\n",
              "      <td>-1.879878</td>\n",
              "      <td>-4.460744</td>\n",
              "      <td>535.388657</td>\n",
              "      <td>3.188683</td>\n",
              "      <td>39.489794</td>\n",
              "      <td>-0.736319</td>\n",
              "      <td>-7.375912</td>\n",
              "      <td>0.595583</td>\n",
              "    </tr>\n",
              "    <tr>\n",
              "      <th>2</th>\n",
              "      <td>0.03</td>\n",
              "      <td>-1.826901</td>\n",
              "      <td>-4.361212</td>\n",
              "      <td>535.357865</td>\n",
              "      <td>3.216085</td>\n",
              "      <td>39.405791</td>\n",
              "      <td>-0.742518</td>\n",
              "      <td>-7.360645</td>\n",
              "      <td>0.600736</td>\n",
              "    </tr>\n",
              "    <tr>\n",
              "      <th>3</th>\n",
              "      <td>0.04</td>\n",
              "      <td>-1.751454</td>\n",
              "      <td>-4.280243</td>\n",
              "      <td>535.344141</td>\n",
              "      <td>3.244572</td>\n",
              "      <td>39.321156</td>\n",
              "      <td>-0.749198</td>\n",
              "      <td>-7.345024</td>\n",
              "      <td>0.606072</td>\n",
              "    </tr>\n",
              "    <tr>\n",
              "      <th>4</th>\n",
              "      <td>0.05</td>\n",
              "      <td>-1.653044</td>\n",
              "      <td>-4.221079</td>\n",
              "      <td>535.333173</td>\n",
              "      <td>3.273691</td>\n",
              "      <td>39.235670</td>\n",
              "      <td>-0.756347</td>\n",
              "      <td>-7.329206</td>\n",
              "      <td>0.611524</td>\n",
              "    </tr>\n",
              "    <tr>\n",
              "      <th>...</th>\n",
              "      <td>...</td>\n",
              "      <td>...</td>\n",
              "      <td>...</td>\n",
              "      <td>...</td>\n",
              "      <td>...</td>\n",
              "      <td>...</td>\n",
              "      <td>...</td>\n",
              "      <td>...</td>\n",
              "      <td>...</td>\n",
              "    </tr>\n",
              "    <tr>\n",
              "      <th>5995</th>\n",
              "      <td>59.96</td>\n",
              "      <td>-1.686699</td>\n",
              "      <td>-4.448812</td>\n",
              "      <td>535.606790</td>\n",
              "      <td>1.560903</td>\n",
              "      <td>40.358188</td>\n",
              "      <td>-0.761125</td>\n",
              "      <td>-7.535040</td>\n",
              "      <td>0.291427</td>\n",
              "    </tr>\n",
              "    <tr>\n",
              "      <th>5996</th>\n",
              "      <td>59.97</td>\n",
              "      <td>-1.708597</td>\n",
              "      <td>-4.460978</td>\n",
              "      <td>535.688024</td>\n",
              "      <td>1.571501</td>\n",
              "      <td>40.322492</td>\n",
              "      <td>-0.759395</td>\n",
              "      <td>-7.527234</td>\n",
              "      <td>0.293361</td>\n",
              "    </tr>\n",
              "    <tr>\n",
              "      <th>5997</th>\n",
              "      <td>59.98</td>\n",
              "      <td>-1.721913</td>\n",
              "      <td>-4.473796</td>\n",
              "      <td>535.776049</td>\n",
              "      <td>1.593658</td>\n",
              "      <td>40.284017</td>\n",
              "      <td>-0.760723</td>\n",
              "      <td>-7.518816</td>\n",
              "      <td>0.297449</td>\n",
              "    </tr>\n",
              "    <tr>\n",
              "      <th>5998</th>\n",
              "      <td>59.99</td>\n",
              "      <td>-1.728616</td>\n",
              "      <td>-4.485147</td>\n",
              "      <td>535.871916</td>\n",
              "      <td>1.625330</td>\n",
              "      <td>40.243219</td>\n",
              "      <td>-0.764808</td>\n",
              "      <td>-7.509858</td>\n",
              "      <td>0.303306</td>\n",
              "    </tr>\n",
              "    <tr>\n",
              "      <th>5999</th>\n",
              "      <td>60.00</td>\n",
              "      <td>-1.731940</td>\n",
              "      <td>-4.494739</td>\n",
              "      <td>535.973441</td>\n",
              "      <td>1.662295</td>\n",
              "      <td>40.201142</td>\n",
              "      <td>-0.770525</td>\n",
              "      <td>-7.500585</td>\n",
              "      <td>0.310145</td>\n",
              "    </tr>\n",
              "  </tbody>\n",
              "</table>\n",
              "<p>6000 rows × 9 columns</p>\n",
              "</div>\n",
              "      <button class=\"colab-df-convert\" onclick=\"convertToInteractive('df-d954bbe2-329e-4b1e-864a-ed82de9765be')\"\n",
              "              title=\"Convert this dataframe to an interactive table.\"\n",
              "              style=\"display:none;\">\n",
              "        \n",
              "  <svg xmlns=\"http://www.w3.org/2000/svg\" height=\"24px\"viewBox=\"0 0 24 24\"\n",
              "       width=\"24px\">\n",
              "    <path d=\"M0 0h24v24H0V0z\" fill=\"none\"/>\n",
              "    <path d=\"M18.56 5.44l.94 2.06.94-2.06 2.06-.94-2.06-.94-.94-2.06-.94 2.06-2.06.94zm-11 1L8.5 8.5l.94-2.06 2.06-.94-2.06-.94L8.5 2.5l-.94 2.06-2.06.94zm10 10l.94 2.06.94-2.06 2.06-.94-2.06-.94-.94-2.06-.94 2.06-2.06.94z\"/><path d=\"M17.41 7.96l-1.37-1.37c-.4-.4-.92-.59-1.43-.59-.52 0-1.04.2-1.43.59L10.3 9.45l-7.72 7.72c-.78.78-.78 2.05 0 2.83L4 21.41c.39.39.9.59 1.41.59.51 0 1.02-.2 1.41-.59l7.78-7.78 2.81-2.81c.8-.78.8-2.07 0-2.86zM5.41 20L4 18.59l7.72-7.72 1.47 1.35L5.41 20z\"/>\n",
              "  </svg>\n",
              "      </button>\n",
              "      \n",
              "  <style>\n",
              "    .colab-df-container {\n",
              "      display:flex;\n",
              "      flex-wrap:wrap;\n",
              "      gap: 12px;\n",
              "    }\n",
              "\n",
              "    .colab-df-convert {\n",
              "      background-color: #E8F0FE;\n",
              "      border: none;\n",
              "      border-radius: 50%;\n",
              "      cursor: pointer;\n",
              "      display: none;\n",
              "      fill: #1967D2;\n",
              "      height: 32px;\n",
              "      padding: 0 0 0 0;\n",
              "      width: 32px;\n",
              "    }\n",
              "\n",
              "    .colab-df-convert:hover {\n",
              "      background-color: #E2EBFA;\n",
              "      box-shadow: 0px 1px 2px rgba(60, 64, 67, 0.3), 0px 1px 3px 1px rgba(60, 64, 67, 0.15);\n",
              "      fill: #174EA6;\n",
              "    }\n",
              "\n",
              "    [theme=dark] .colab-df-convert {\n",
              "      background-color: #3B4455;\n",
              "      fill: #D2E3FC;\n",
              "    }\n",
              "\n",
              "    [theme=dark] .colab-df-convert:hover {\n",
              "      background-color: #434B5C;\n",
              "      box-shadow: 0px 1px 3px 1px rgba(0, 0, 0, 0.15);\n",
              "      filter: drop-shadow(0px 1px 2px rgba(0, 0, 0, 0.3));\n",
              "      fill: #FFFFFF;\n",
              "    }\n",
              "  </style>\n",
              "\n",
              "      <script>\n",
              "        const buttonEl =\n",
              "          document.querySelector('#df-d954bbe2-329e-4b1e-864a-ed82de9765be button.colab-df-convert');\n",
              "        buttonEl.style.display =\n",
              "          google.colab.kernel.accessAllowed ? 'block' : 'none';\n",
              "\n",
              "        async function convertToInteractive(key) {\n",
              "          const element = document.querySelector('#df-d954bbe2-329e-4b1e-864a-ed82de9765be');\n",
              "          const dataTable =\n",
              "            await google.colab.kernel.invokeFunction('convertToInteractive',\n",
              "                                                     [key], {});\n",
              "          if (!dataTable) return;\n",
              "\n",
              "          const docLinkHtml = 'Like what you see? Visit the ' +\n",
              "            '<a target=\"_blank\" href=https://colab.research.google.com/notebooks/data_table.ipynb>data table notebook</a>'\n",
              "            + ' to learn more about interactive tables.';\n",
              "          element.innerHTML = '';\n",
              "          dataTable['output_type'] = 'display_data';\n",
              "          await google.colab.output.renderOutput(dataTable, element);\n",
              "          const docLink = document.createElement('div');\n",
              "          docLink.innerHTML = docLinkHtml;\n",
              "          element.appendChild(docLink);\n",
              "        }\n",
              "      </script>\n",
              "    </div>\n",
              "  </div>\n",
              "  "
            ]
          },
          "metadata": {},
          "execution_count": 4
        }
      ]
    },
    {
      "cell_type": "code",
      "source": [
        "y = dados['My[Nm]']\n",
        "x = dados['Time[s]']\n",
        "plt.figure()\n",
        "plt.plot(x, y, color = 'red', linestyle = '-')\n",
        "plt.xlabel('Time [s]')\n",
        "plt.ylabel('My [Nm]')\n",
        "plt.axhline(y.mean(), color = 'blue')\n",
        "plt.axhline(y.std(), color= 'green')\n",
        "plt.grid()\n",
        "plt.show()"
      ],
      "metadata": {
        "colab": {
          "base_uri": "https://localhost:8080/",
          "height": 279
        },
        "id": "EZNtoHwLLyrA",
        "outputId": "bf7ffc9d-a4fb-4bc5-d568-55584a365590"
      },
      "execution_count": null,
      "outputs": [
        {
          "output_type": "display_data",
          "data": {
            "text/plain": [
              "<Figure size 432x288 with 1 Axes>"
            ],
            "image/png": "[encoded data removed]"
          },
          "metadata": {
            "needs_background": "light"
          }
        }
      ]
    },
    {
      "cell_type": "markdown",
      "source": [
        "------------------------"
      ],
      "metadata": {
        "id": "c-PqfRsSQxZd"
      }
    },
    {
      "cell_type": "markdown",
      "source": [
        "2) Para este item você deverá usar o arquivo com a taxa de inflação mensal (IGP-DI) no Brasil de fevereiro de 1944 a junho de 2019 (dados disponibilizados por Ipeadata).\n",
        "\n",
        "Calcule a mediana da inflação mensal nos meses de março.\n",
        "\n",
        "Calcule a média da inflação mensal nos meses de março.\n",
        "\n",
        "Calcule o desvio-padrão da inflação mensal nos meses de março.\n",
        "\n",
        "Faça o histograma da inflação mensal nos meses de março."
      ],
      "metadata": {
        "id": "q9bL1NLpQuey"
      }
    },
    {
      "cell_type": "code",
      "source": [
        "infla = pd.read_csv('https://raw.githubusercontent.com/BMClab/BasesComputacionais/master/dados/inflacaoMensal.csv')\n",
        "infla"
      ],
      "metadata": {
        "colab": {
          "base_uri": "https://localhost:8080/",
          "height": 424
        },
        "id": "OgvVqnBfQu-c",
        "outputId": "daa45ac9-05ff-4923-d696-77373264a3c9"
      },
      "execution_count": null,
      "outputs": [
        {
          "output_type": "execute_result",
          "data": {
            "text/plain": [
              "      Ano  Mês  Inflação\n",
              "0    1944    2      1.45\n",
              "1    1944    3      1.43\n",
              "2    1944    4      1.41\n",
              "3    1944    5      1.39\n",
              "4    1944    6      1.37\n",
              "..    ...  ...       ...\n",
              "900  2019    2      1.25\n",
              "901  2019    3      1.07\n",
              "902  2019    4      0.90\n",
              "903  2019    5      0.40\n",
              "904  2019    6      0.63\n",
              "\n",
              "[905 rows x 3 columns]"
            ],
            "text/html": [
              "\n",
              "  <div id=\"df-92a70f0a-1e0f-4a9b-8ecd-edab8d87f4ed\">\n",
              "    <div class=\"colab-df-container\">\n",
              "      <div>\n",
              "<style scoped>\n",
              "    .dataframe tbody tr th:only-of-type {\n",
              "        vertical-align: middle;\n",
              "    }\n",
              "\n",
              "    .dataframe tbody tr th {\n",
              "        vertical-align: top;\n",
              "    }\n",
              "\n",
              "    .dataframe thead th {\n",
              "        text-align: right;\n",
              "    }\n",
              "</style>\n",
              "<table border=\"1\" class=\"dataframe\">\n",
              "  <thead>\n",
              "    <tr style=\"text-align: right;\">\n",
              "      <th></th>\n",
              "      <th>Ano</th>\n",
              "      <th>Mês</th>\n",
              "      <th>Inflação</th>\n",
              "    </tr>\n",
              "  </thead>\n",
              "  <tbody>\n",
              "    <tr>\n",
              "      <th>0</th>\n",
              "      <td>1944</td>\n",
              "      <td>2</td>\n",
              "      <td>1.45</td>\n",
              "    </tr>\n",
              "    <tr>\n",
              "      <th>1</th>\n",
              "      <td>1944</td>\n",
              "      <td>3</td>\n",
              "      <td>1.43</td>\n",
              "    </tr>\n",
              "    <tr>\n",
              "      <th>2</th>\n",
              "      <td>1944</td>\n",
              "      <td>4</td>\n",
              "      <td>1.41</td>\n",
              "    </tr>\n",
              "    <tr>\n",
              "      <th>3</th>\n",
              "      <td>1944</td>\n",
              "      <td>5</td>\n",
              "      <td>1.39</td>\n",
              "    </tr>\n",
              "    <tr>\n",
              "      <th>4</th>\n",
              "      <td>1944</td>\n",
              "      <td>6</td>\n",
              "      <td>1.37</td>\n",
              "    </tr>\n",
              "    <tr>\n",
              "      <th>...</th>\n",
              "      <td>...</td>\n",
              "      <td>...</td>\n",
              "      <td>...</td>\n",
              "    </tr>\n",
              "    <tr>\n",
              "      <th>900</th>\n",
              "      <td>2019</td>\n",
              "      <td>2</td>\n",
              "      <td>1.25</td>\n",
              "    </tr>\n",
              "    <tr>\n",
              "      <th>901</th>\n",
              "      <td>2019</td>\n",
              "      <td>3</td>\n",
              "      <td>1.07</td>\n",
              "    </tr>\n",
              "    <tr>\n",
              "      <th>902</th>\n",
              "      <td>2019</td>\n",
              "      <td>4</td>\n",
              "      <td>0.90</td>\n",
              "    </tr>\n",
              "    <tr>\n",
              "      <th>903</th>\n",
              "      <td>2019</td>\n",
              "      <td>5</td>\n",
              "      <td>0.40</td>\n",
              "    </tr>\n",
              "    <tr>\n",
              "      <th>904</th>\n",
              "      <td>2019</td>\n",
              "      <td>6</td>\n",
              "      <td>0.63</td>\n",
              "    </tr>\n",
              "  </tbody>\n",
              "</table>\n",
              "<p>905 rows × 3 columns</p>\n",
              "</div>\n",
              "      <button class=\"colab-df-convert\" onclick=\"convertToInteractive('df-92a70f0a-1e0f-4a9b-8ecd-edab8d87f4ed')\"\n",
              "              title=\"Convert this dataframe to an interactive table.\"\n",
              "              style=\"display:none;\">\n",
              "        \n",
              "  <svg xmlns=\"http://www.w3.org/2000/svg\" height=\"24px\"viewBox=\"0 0 24 24\"\n",
              "       width=\"24px\">\n",
              "    <path d=\"M0 0h24v24H0V0z\" fill=\"none\"/>\n",
              "    <path d=\"M18.56 5.44l.94 2.06.94-2.06 2.06-.94-2.06-.94-.94-2.06-.94 2.06-2.06.94zm-11 1L8.5 8.5l.94-2.06 2.06-.94-2.06-.94L8.5 2.5l-.94 2.06-2.06.94zm10 10l.94 2.06.94-2.06 2.06-.94-2.06-.94-.94-2.06-.94 2.06-2.06.94z\"/><path d=\"M17.41 7.96l-1.37-1.37c-.4-.4-.92-.59-1.43-.59-.52 0-1.04.2-1.43.59L10.3 9.45l-7.72 7.72c-.78.78-.78 2.05 0 2.83L4 21.41c.39.39.9.59 1.41.59.51 0 1.02-.2 1.41-.59l7.78-7.78 2.81-2.81c.8-.78.8-2.07 0-2.86zM5.41 20L4 18.59l7.72-7.72 1.47 1.35L5.41 20z\"/>\n",
              "  </svg>\n",
              "      </button>\n",
              "      \n",
              "  <style>\n",
              "    .colab-df-container {\n",
              "      display:flex;\n",
              "      flex-wrap:wrap;\n",
              "      gap: 12px;\n",
              "    }\n",
              "\n",
              "    .colab-df-convert {\n",
              "      background-color: #E8F0FE;\n",
              "      border: none;\n",
              "      border-radius: 50%;\n",
              "      cursor: pointer;\n",
              "      display: none;\n",
              "      fill: #1967D2;\n",
              "      height: 32px;\n",
              "      padding: 0 0 0 0;\n",
              "      width: 32px;\n",
              "    }\n",
              "\n",
              "    .colab-df-convert:hover {\n",
              "      background-color: #E2EBFA;\n",
              "      box-shadow: 0px 1px 2px rgba(60, 64, 67, 0.3), 0px 1px 3px 1px rgba(60, 64, 67, 0.15);\n",
              "      fill: #174EA6;\n",
              "    }\n",
              "\n",
              "    [theme=dark] .colab-df-convert {\n",
              "      background-color: #3B4455;\n",
              "      fill: #D2E3FC;\n",
              "    }\n",
              "\n",
              "    [theme=dark] .colab-df-convert:hover {\n",
              "      background-color: #434B5C;\n",
              "      box-shadow: 0px 1px 3px 1px rgba(0, 0, 0, 0.15);\n",
              "      filter: drop-shadow(0px 1px 2px rgba(0, 0, 0, 0.3));\n",
              "      fill: #FFFFFF;\n",
              "    }\n",
              "  </style>\n",
              "\n",
              "      <script>\n",
              "        const buttonEl =\n",
              "          document.querySelector('#df-92a70f0a-1e0f-4a9b-8ecd-edab8d87f4ed button.colab-df-convert');\n",
              "        buttonEl.style.display =\n",
              "          google.colab.kernel.accessAllowed ? 'block' : 'none';\n",
              "\n",
              "        async function convertToInteractive(key) {\n",
              "          const element = document.querySelector('#df-92a70f0a-1e0f-4a9b-8ecd-edab8d87f4ed');\n",
              "          const dataTable =\n",
              "            await google.colab.kernel.invokeFunction('convertToInteractive',\n",
              "                                                     [key], {});\n",
              "          if (!dataTable) return;\n",
              "\n",
              "          const docLinkHtml = 'Like what you see? Visit the ' +\n",
              "            '<a target=\"_blank\" href=https://colab.research.google.com/notebooks/data_table.ipynb>data table notebook</a>'\n",
              "            + ' to learn more about interactive tables.';\n",
              "          element.innerHTML = '';\n",
              "          dataTable['output_type'] = 'display_data';\n",
              "          await google.colab.output.renderOutput(dataTable, element);\n",
              "          const docLink = document.createElement('div');\n",
              "          docLink.innerHTML = docLinkHtml;\n",
              "          element.appendChild(docLink);\n",
              "        }\n",
              "      </script>\n",
              "    </div>\n",
              "  </div>\n",
              "  "
            ]
          },
          "metadata": {},
          "execution_count": 15
        }
      ]
    },
    {
      "cell_type": "code",
      "source": [
        "mediana = infla.query('Mês == 3')['Inflação'].median()\n",
        "print('a mediana da inflação nos meses de março é:', mediana)\n",
        "\n",
        "media = infla.query('Mês == 3')['Inflação'].mean()\n",
        "print('a média da inflação nos meses de março é:', media)\n",
        "\n",
        "dp = infla.query('Mês == 3')['Inflação'].std()\n",
        "print('o desvio padrão da inflação nos meses de março é:', dp)"
      ],
      "metadata": {
        "colab": {
          "base_uri": "https://localhost:8080/"
        },
        "id": "AzowTQvvZOd7",
        "outputId": "00bc2d65-792a-4319-8a02-9c69f593cb60"
      },
      "execution_count": null,
      "outputs": [
        {
          "output_type": "stream",
          "name": "stdout",
          "text": [
            "a mediana da inflação nos meses de março é: 1.565\n",
            "a média da inflação nos meses de março é: 4.852631578947369\n",
            "o desvio padrão da inflação nos meses de março é: 11.263066884695428\n"
          ]
        }
      ]
    },
    {
      "cell_type": "code",
      "source": [
        "infla.query('Mês == 3')['Inflação'].hist()"
      ],
      "metadata": {
        "colab": {
          "base_uri": "https://localhost:8080/",
          "height": 282
        },
        "id": "MZn2AKHnbORJ",
        "outputId": "b694345c-1070-46eb-c2a9-7f2c4f919882"
      },
      "execution_count": null,
      "outputs": [
        {
          "output_type": "execute_result",
          "data": {
            "text/plain": [
              "<matplotlib.axes._subplots.AxesSubplot at 0x7f7a0eb06310>"
            ]
          },
          "metadata": {},
          "execution_count": 45
        },
        {
          "output_type": "display_data",
          "data": {
            "text/plain": [
              "<Figure size 432x288 with 1 Axes>"
            ],
            "image/png": "[encoded data removed]"
          },
          "metadata": {
            "needs_background": "light"
          }
        }
      ]
    },
    {
      "cell_type": "markdown",
      "source": [
        "-------------------------------------------------------------"
      ],
      "metadata": {
        "id": "kaohI_27dOO7"
      }
    },
    {
      "cell_type": "markdown",
      "source": [
        "3) Para este item você deverá usar o arquivo com a taxa de inflação mensal (IGP-DI) no Brasil de fevereiro de 1944 a junho de 2019 (dados disponibilizados por Ipeadata).\n",
        "\n",
        "\n",
        "\n",
        "Calcule a mediana da inflação mensal nos meses de março a partir de 1995.\n",
        "\n",
        "\n",
        "\n",
        "\n",
        "Calcule a média da inflação mensal nos meses de março a partir de 1995.\n",
        "\n",
        "\n",
        "\n",
        "\n",
        "Calcule o desvio-padrão da inflação mensal nos meses de março a partir de 1995.\n",
        "\n",
        "\n",
        "\n",
        "Faça o histograma da inflação mensal nos meses de março a partir de 1995.\n",
        "\n",
        "\n",
        "\n",
        "\n",
        "Coloque um comentário no seu script comentando a razão da diferença entre a média e a mediana ser alta no segundo item e baixa no terceiro item."
      ],
      "metadata": {
        "id": "E13BTvNzdT5v"
      }
    },
    {
      "cell_type": "code",
      "source": [
        "a = infla.query('Ano >= 1995')\n",
        "a"
      ],
      "metadata": {
        "colab": {
          "base_uri": "https://localhost:8080/",
          "height": 424
        },
        "id": "yd8sAFEOdGoH",
        "outputId": "06a71cbe-c6c2-41d0-e32a-54b33112dec1"
      },
      "execution_count": null,
      "outputs": [
        {
          "output_type": "execute_result",
          "data": {
            "text/plain": [
              "      Ano  Mês  Inflação\n",
              "611  1995    1      1.36\n",
              "612  1995    2      1.15\n",
              "613  1995    3      1.81\n",
              "614  1995    4      2.30\n",
              "615  1995    5      0.40\n",
              "..    ...  ...       ...\n",
              "900  2019    2      1.25\n",
              "901  2019    3      1.07\n",
              "902  2019    4      0.90\n",
              "903  2019    5      0.40\n",
              "904  2019    6      0.63\n",
              "\n",
              "[294 rows x 3 columns]"
            ],
            "text/html": [
              "\n",
              "  <div id=\"df-3ac4c55f-7b3f-40f6-93ae-a777604d292d\">\n",
              "    <div class=\"colab-df-container\">\n",
              "      <div>\n",
              "<style scoped>\n",
              "    .dataframe tbody tr th:only-of-type {\n",
              "        vertical-align: middle;\n",
              "    }\n",
              "\n",
              "    .dataframe tbody tr th {\n",
              "        vertical-align: top;\n",
              "    }\n",
              "\n",
              "    .dataframe thead th {\n",
              "        text-align: right;\n",
              "    }\n",
              "</style>\n",
              "<table border=\"1\" class=\"dataframe\">\n",
              "  <thead>\n",
              "    <tr style=\"text-align: right;\">\n",
              "      <th></th>\n",
              "      <th>Ano</th>\n",
              "      <th>Mês</th>\n",
              "      <th>Inflação</th>\n",
              "    </tr>\n",
              "  </thead>\n",
              "  <tbody>\n",
              "    <tr>\n",
              "      <th>611</th>\n",
              "      <td>1995</td>\n",
              "      <td>1</td>\n",
              "      <td>1.36</td>\n",
              "    </tr>\n",
              "    <tr>\n",
              "      <th>612</th>\n",
              "      <td>1995</td>\n",
              "      <td>2</td>\n",
              "      <td>1.15</td>\n",
              "    </tr>\n",
              "    <tr>\n",
              "      <th>613</th>\n",
              "      <td>1995</td>\n",
              "      <td>3</td>\n",
              "      <td>1.81</td>\n",
              "    </tr>\n",
              "    <tr>\n",
              "      <th>614</th>\n",
              "      <td>1995</td>\n",
              "      <td>4</td>\n",
              "      <td>2.30</td>\n",
              "    </tr>\n",
              "    <tr>\n",
              "      <th>615</th>\n",
              "      <td>1995</td>\n",
              "      <td>5</td>\n",
              "      <td>0.40</td>\n",
              "    </tr>\n",
              "    <tr>\n",
              "      <th>...</th>\n",
              "      <td>...</td>\n",
              "      <td>...</td>\n",
              "      <td>...</td>\n",
              "    </tr>\n",
              "    <tr>\n",
              "      <th>900</th>\n",
              "      <td>2019</td>\n",
              "      <td>2</td>\n",
              "      <td>1.25</td>\n",
              "    </tr>\n",
              "    <tr>\n",
              "      <th>901</th>\n",
              "      <td>2019</td>\n",
              "      <td>3</td>\n",
              "      <td>1.07</td>\n",
              "    </tr>\n",
              "    <tr>\n",
              "      <th>902</th>\n",
              "      <td>2019</td>\n",
              "      <td>4</td>\n",
              "      <td>0.90</td>\n",
              "    </tr>\n",
              "    <tr>\n",
              "      <th>903</th>\n",
              "      <td>2019</td>\n",
              "      <td>5</td>\n",
              "      <td>0.40</td>\n",
              "    </tr>\n",
              "    <tr>\n",
              "      <th>904</th>\n",
              "      <td>2019</td>\n",
              "      <td>6</td>\n",
              "      <td>0.63</td>\n",
              "    </tr>\n",
              "  </tbody>\n",
              "</table>\n",
              "<p>294 rows × 3 columns</p>\n",
              "</div>\n",
              "      <button class=\"colab-df-convert\" onclick=\"convertToInteractive('df-3ac4c55f-7b3f-40f6-93ae-a777604d292d')\"\n",
              "              title=\"Convert this dataframe to an interactive table.\"\n",
              "              style=\"display:none;\">\n",
              "        \n",
              "  <svg xmlns=\"http://www.w3.org/2000/svg\" height=\"24px\"viewBox=\"0 0 24 24\"\n",
              "       width=\"24px\">\n",
              "    <path d=\"M0 0h24v24H0V0z\" fill=\"none\"/>\n",
              "    <path d=\"M18.56 5.44l.94 2.06.94-2.06 2.06-.94-2.06-.94-.94-2.06-.94 2.06-2.06.94zm-11 1L8.5 8.5l.94-2.06 2.06-.94-2.06-.94L8.5 2.5l-.94 2.06-2.06.94zm10 10l.94 2.06.94-2.06 2.06-.94-2.06-.94-.94-2.06-.94 2.06-2.06.94z\"/><path d=\"M17.41 7.96l-1.37-1.37c-.4-.4-.92-.59-1.43-.59-.52 0-1.04.2-1.43.59L10.3 9.45l-7.72 7.72c-.78.78-.78 2.05 0 2.83L4 21.41c.39.39.9.59 1.41.59.51 0 1.02-.2 1.41-.59l7.78-7.78 2.81-2.81c.8-.78.8-2.07 0-2.86zM5.41 20L4 18.59l7.72-7.72 1.47 1.35L5.41 20z\"/>\n",
              "  </svg>\n",
              "      </button>\n",
              "      \n",
              "  <style>\n",
              "    .colab-df-container {\n",
              "      display:flex;\n",
              "      flex-wrap:wrap;\n",
              "      gap: 12px;\n",
              "    }\n",
              "\n",
              "    .colab-df-convert {\n",
              "      background-color: #E8F0FE;\n",
              "      border: none;\n",
              "      border-radius: 50%;\n",
              "      cursor: pointer;\n",
              "      display: none;\n",
              "      fill: #1967D2;\n",
              "      height: 32px;\n",
              "      padding: 0 0 0 0;\n",
              "      width: 32px;\n",
              "    }\n",
              "\n",
              "    .colab-df-convert:hover {\n",
              "      background-color: #E2EBFA;\n",
              "      box-shadow: 0px 1px 2px rgba(60, 64, 67, 0.3), 0px 1px 3px 1px rgba(60, 64, 67, 0.15);\n",
              "      fill: #174EA6;\n",
              "    }\n",
              "\n",
              "    [theme=dark] .colab-df-convert {\n",
              "      background-color: #3B4455;\n",
              "      fill: #D2E3FC;\n",
              "    }\n",
              "\n",
              "    [theme=dark] .colab-df-convert:hover {\n",
              "      background-color: #434B5C;\n",
              "      box-shadow: 0px 1px 3px 1px rgba(0, 0, 0, 0.15);\n",
              "      filter: drop-shadow(0px 1px 2px rgba(0, 0, 0, 0.3));\n",
              "      fill: #FFFFFF;\n",
              "    }\n",
              "  </style>\n",
              "\n",
              "      <script>\n",
              "        const buttonEl =\n",
              "          document.querySelector('#df-3ac4c55f-7b3f-40f6-93ae-a777604d292d button.colab-df-convert');\n",
              "        buttonEl.style.display =\n",
              "          google.colab.kernel.accessAllowed ? 'block' : 'none';\n",
              "\n",
              "        async function convertToInteractive(key) {\n",
              "          const element = document.querySelector('#df-3ac4c55f-7b3f-40f6-93ae-a777604d292d');\n",
              "          const dataTable =\n",
              "            await google.colab.kernel.invokeFunction('convertToInteractive',\n",
              "                                                     [key], {});\n",
              "          if (!dataTable) return;\n",
              "\n",
              "          const docLinkHtml = 'Like what you see? Visit the ' +\n",
              "            '<a target=\"_blank\" href=https://colab.research.google.com/notebooks/data_table.ipynb>data table notebook</a>'\n",
              "            + ' to learn more about interactive tables.';\n",
              "          element.innerHTML = '';\n",
              "          dataTable['output_type'] = 'display_data';\n",
              "          await google.colab.output.renderOutput(dataTable, element);\n",
              "          const docLink = document.createElement('div');\n",
              "          docLink.innerHTML = docLinkHtml;\n",
              "          element.appendChild(docLink);\n",
              "        }\n",
              "      </script>\n",
              "    </div>\n",
              "  </div>\n",
              "  "
            ]
          },
          "metadata": {},
          "execution_count": 47
        }
      ]
    },
    {
      "cell_type": "code",
      "source": [
        "mediana = a.query('Mês == 3')['Inflação'].median()\n",
        "print('a mediana da inflação mensal nos meses de março a partir de 1995 é:', mediana)\n",
        "\n",
        "média = a.query('Mês == 3')['Inflação'].mean()\n",
        "print('a média da inflação mensal nos meses de março a partir de 1995 é:', média)\n",
        "\n",
        "dp = a.query('Mês == 3')['Inflação'].std()\n",
        "print('o desvio padrão da inflação mensal nos meses de março a partir de 1995 é:', dp)\n"
      ],
      "metadata": {
        "colab": {
          "base_uri": "https://localhost:8080/"
        },
        "id": "28ZYijYgepWX",
        "outputId": "25241be5-4392-45f3-d310-b88377a7405d"
      },
      "execution_count": null,
      "outputs": [
        {
          "output_type": "stream",
          "name": "stdout",
          "text": [
            "a mediana da inflação mensal nos meses de março a partir de 1995 é: 0.61\n",
            "a média da inflação mensal nos meses de março a partir de 1995 é: 0.6472\n",
            "o desvio padrão da inflação mensal nos meses de março a partir de 1995 é: 0.6929497336267135\n"
          ]
        }
      ]
    },
    {
      "cell_type": "code",
      "source": [
        "a.query('Mês == 3')['Inflação'].hist()"
      ],
      "metadata": {
        "colab": {
          "base_uri": "https://localhost:8080/",
          "height": 282
        },
        "id": "IbXGP3kze5tr",
        "outputId": "8064b4d3-c5ea-4c3e-90c5-608207d38e66"
      },
      "execution_count": null,
      "outputs": [
        {
          "output_type": "execute_result",
          "data": {
            "text/plain": [
              "<matplotlib.axes._subplots.AxesSubplot at 0x7f7a0e9e3a90>"
            ]
          },
          "metadata": {},
          "execution_count": 53
        },
        {
          "output_type": "display_data",
          "data": {
            "text/plain": [
              "<Figure size 432x288 with 1 Axes>"
            ],
            "image/png": "[encoded data removed]"
          },
          "metadata": {
            "needs_background": "light"
          }
        }
      ]
    },
    {
      "cell_type": "markdown",
      "source": [
        "--------------------------------------------------------------"
      ],
      "metadata": {
        "id": "JdlbRjTIlQ4o"
      }
    },
    {
      "cell_type": "markdown",
      "source": [
        "4) Use a sequência de instruções abaixo para gerar N números aleatórios entre 0 e 1.\n",
        "\n",
        "\n",
        "\n",
        "rng = np.random.default_rng()\n",
        "\n",
        "\n",
        "\n",
        "x = rng.uniform(size=N)\n",
        "\n",
        "\n",
        "\n",
        "\n",
        "\n",
        "Faça o histograma e calcule (e mostre na tela) a média dos valores gerados.\n",
        "\n",
        "\n",
        "\n",
        "\n",
        "\n",
        "\n",
        "Faça isso para \n",
        "\n",
        "a) N = 100\n",
        "\n",
        "\n",
        " N = 1000\n",
        " \n",
        "  c) N = 10000\n",
        "  \n",
        "   d) N = 100000"
      ],
      "metadata": {
        "id": "uoEKfZn0lJ9M"
      }
    },
    {
      "cell_type": "markdown",
      "source": [
        "**a) 100**"
      ],
      "metadata": {
        "id": "YjY73QPW0rh_"
      }
    },
    {
      "cell_type": "code",
      "source": [
        "rng = np.random.default_rng()\n",
        "x = rng.uniform(size=100)"
      ],
      "metadata": {
        "id": "6kGEQSYVfwJw"
      },
      "execution_count": null,
      "outputs": []
    },
    {
      "cell_type": "code",
      "source": [
        "import matplotlib.pyplot as plt\n",
        "\n",
        "plt.figure()\n",
        "plt.hist(x)\n",
        "plt.axhline(x.mean(), color = 'red')\n",
        "plt.grid()\n",
        "plt.show()"
      ],
      "metadata": {
        "colab": {
          "base_uri": "https://localhost:8080/",
          "height": 265
        },
        "id": "NTzesQGL0I_y",
        "outputId": "afc92238-a342-4ab3-a7c7-0610a9e8142d"
      },
      "execution_count": null,
      "outputs": [
        {
          "output_type": "display_data",
          "data": {
            "text/plain": [
              "<Figure size 432x288 with 1 Axes>"
            ],
            "image/png": "[encoded data removed]"
          },
          "metadata": {
            "needs_background": "light"
          }
        }
      ]
    },
    {
      "cell_type": "markdown",
      "source": [
        "**b)1000**"
      ],
      "metadata": {
        "id": "DuEp1mKI0wPf"
      }
    },
    {
      "cell_type": "code",
      "source": [
        "rng = np.random.default_rng()\n",
        "x = rng.uniform(size=1000)"
      ],
      "metadata": {
        "id": "IbPeCMML0yzg"
      },
      "execution_count": null,
      "outputs": []
    },
    {
      "cell_type": "code",
      "source": [
        "plt.figure()\n",
        "plt.hist(x)\n",
        "plt.axhline(x.mean(), color = 'red')\n",
        "plt.grid()\n",
        "plt.show()"
      ],
      "metadata": {
        "colab": {
          "base_uri": "https://localhost:8080/",
          "height": 266
        },
        "id": "J0UfBqjW03W5",
        "outputId": "11352273-06f8-430e-bae1-d3b8fb3a470e"
      },
      "execution_count": null,
      "outputs": [
        {
          "output_type": "display_data",
          "data": {
            "text/plain": [
              "<Figure size 432x288 with 1 Axes>"
            ],
            "image/png": "[encoded data removed]"
          },
          "metadata": {
            "needs_background": "light"
          }
        }
      ]
    },
    {
      "cell_type": "markdown",
      "source": [
        "**c) 10000**"
      ],
      "metadata": {
        "id": "vzz7bPiP06i6"
      }
    },
    {
      "cell_type": "code",
      "source": [
        "rng = np.random.default_rng()\n",
        "x = rng.uniform(size=1000)"
      ],
      "metadata": {
        "id": "p3TypICN05ix"
      },
      "execution_count": null,
      "outputs": []
    },
    {
      "cell_type": "code",
      "source": [
        "plt.figure()\n",
        "plt.hist(x)\n",
        "plt.axhline(x.mean(), color = 'red')\n",
        "plt.grid()\n",
        "plt.show()"
      ],
      "metadata": {
        "colab": {
          "base_uri": "https://localhost:8080/",
          "height": 265
        },
        "id": "_YkkM_-y1Bux",
        "outputId": "70b15e04-079f-4fba-f146-7dec9bc5e0d3"
      },
      "execution_count": null,
      "outputs": [
        {
          "output_type": "display_data",
          "data": {
            "text/plain": [
              "<Figure size 432x288 with 1 Axes>"
            ],
            "image/png": "[encoded data removed]"
          },
          "metadata": {
            "needs_background": "light"
          }
        }
      ]
    },
    {
      "cell_type": "markdown",
      "source": [
        "**d)100000**"
      ],
      "metadata": {
        "id": "r8LHs77M1FCZ"
      }
    },
    {
      "cell_type": "code",
      "source": [
        "rng = np.random.default_rng()\n",
        "x = rng.uniform(size=1000)"
      ],
      "metadata": {
        "id": "YszXdJ1C1EBo"
      },
      "execution_count": null,
      "outputs": []
    },
    {
      "cell_type": "code",
      "source": [
        "plt.figure()\n",
        "plt.hist(x)\n",
        "plt.axhline(x.mean(), color = 'red')\n",
        "plt.grid()\n",
        "plt.show()"
      ],
      "metadata": {
        "colab": {
          "base_uri": "https://localhost:8080/",
          "height": 265
        },
        "id": "B3xMAu5A1Lhj",
        "outputId": "ef1e966d-2572-44c5-d072-6edba59b977f"
      },
      "execution_count": null,
      "outputs": [
        {
          "output_type": "display_data",
          "data": {
            "text/plain": [
              "<Figure size 432x288 with 1 Axes>"
            ],
            "image/png": "[encoded data removed]"
          },
          "metadata": {
            "needs_background": "light"
          }
        }
      ]
    }
  ]
}